{
 "cells": [
  {
   "cell_type": "code",
   "execution_count": 8,
   "metadata": {
    "collapsed": true
   },
   "outputs": [
    {
     "name": "stdout",
     "output_type": "stream",
     "text": [
      "[False False True ..., False False False]"
     ]
    },
    {
     "name": "stdout",
     "output_type": "stream",
     "text": [
      "\n"
     ]
    }
   ],
   "source": [
    "import pandas as pd\n",
    "import numpy as np\n",
    "import matplotlib.pyplot as plt\n",
    "import h2o\n",
    "from h2o.estimators import H2ONaiveBayesEstimator\n",
    "\n",
    "training_filename = 'Datasets/TrainingCorpus.csv'\n",
    "testing_filename = 'Datasets/TestingCorpus.csv'\n",
    "\n",
    "threshold = 0.5\n",
    "\n",
    "tr_df = pd.read_csv(training_filename)\n",
    "ts_df = pd.read_csv(testing_filename)\n",
    "\n",
    "tr_df[[\"DELAYED\"]] = tr_df[[\"DELAYED\"]].astype(int).astype(bool) \n",
    "ts_df[[\"DELAYED\"]] = ts_df[[\"DELAYED\"]].astype(int).astype(bool) \n",
    "\n",
    "cols = list(tr_df.columns.values)\n",
    "\n",
    "ytest = ts_df.values[:, len(cols) - 1]\n",
    "\n",
    "print(ytest)"
   ]
  },
  {
   "cell_type": "code",
   "execution_count": 9,
   "metadata": {},
   "outputs": [
    {
     "name": "stdout",
     "output_type": "stream",
     "text": [
      "Checking whether there is an H2O instance running at http://localhost:54321"
     ]
    },
    {
     "name": "stdout",
     "output_type": "stream",
     "text": [
      "."
     ]
    },
    {
     "name": "stdout",
     "output_type": "stream",
     "text": [
      " connected."
     ]
    },
    {
     "name": "stdout",
     "output_type": "stream",
     "text": [
      "\n"
     ]
    },
    {
     "name": "stdout",
     "output_type": "stream",
     "text": [
      "Warning: Your H2O cluster version is too old (3 months and 25 days)! Please download and install the latest version from http://h2o.ai/download/"
     ]
    },
    {
     "name": "stdout",
     "output_type": "stream",
     "text": [
      "\n"
     ]
    },
    {
     "data": {
      "text/html": [
       "<div style=\"overflow:auto\"><table style=\"width:50%\"><tr><td>H2O cluster uptime:</td>\n",
       "<td>5 hours 47 mins</td></tr>\n",
       "<tr><td>H2O cluster version:</td>\n",
       "<td>3.10.4.8</td></tr>\n",
       "<tr><td>H2O cluster version age:</td>\n",
       "<td>3 months and 25 days !!!</td></tr>\n",
       "<tr><td>H2O cluster name:</td>\n",
       "<td>H2O_from_python_Alonso_0qj9wo</td></tr>\n",
       "<tr><td>H2O cluster total nodes:</td>\n",
       "<td>1</td></tr>\n",
       "<tr><td>H2O cluster free memory:</td>\n",
       "<td>541 Mb</td></tr>\n",
       "<tr><td>H2O cluster total cores:</td>\n",
       "<td>4</td></tr>\n",
       "<tr><td>H2O cluster allowed cores:</td>\n",
       "<td>4</td></tr>\n",
       "<tr><td>H2O cluster status:</td>\n",
       "<td>locked, healthy</td></tr>\n",
       "<tr><td>H2O connection url:</td>\n",
       "<td>http://localhost:54321</td></tr>\n",
       "<tr><td>H2O connection proxy:</td>\n",
       "<td>None</td></tr>\n",
       "<tr><td>H2O internal security:</td>\n",
       "<td>False</td></tr>\n",
       "<tr><td>Python version:</td>\n",
       "<td>3.5.0 final</td></tr></table></div>"
      ],
      "text/plain": [
       "<div style=\"overflow:auto\"><table style=\"width:50%\"><tr><td>H2O cluster uptime:</td>\n",
       "<td>5 hours 47 mins</td></tr>\n",
       "<tr><td>H2O cluster version:</td>\n",
       "<td>3.10.4.8</td></tr>\n",
       "<tr><td>H2O cluster version age:</td>\n",
       "<td>3 months and 25 days !!!</td></tr>\n",
       "<tr><td>H2O cluster name:</td>\n",
       "<td>H2O_from_python_Alonso_0qj9wo</td></tr>\n",
       "<tr><td>H2O cluster total nodes:</td>\n",
       "<td>1</td></tr>\n",
       "<tr><td>H2O cluster free memory:</td>\n",
       "<td>541 Mb</td></tr>\n",
       "<tr><td>H2O cluster total cores:</td>\n",
       "<td>4</td></tr>\n",
       "<tr><td>H2O cluster allowed cores:</td>\n",
       "<td>4</td></tr>\n",
       "<tr><td>H2O cluster status:</td>\n",
       "<td>locked, healthy</td></tr>\n",
       "<tr><td>H2O connection url:</td>\n",
       "<td>http://localhost:54321</td></tr>\n",
       "<tr><td>H2O connection proxy:</td>\n",
       "<td>None</td></tr>\n",
       "<tr><td>H2O internal security:</td>\n",
       "<td>False</td></tr>\n",
       "<tr><td>Python version:</td>\n",
       "<td>3.5.0 final</td></tr></table></div>"
      ]
     },
     "execution_count": 0,
     "metadata": {},
     "output_type": "execute_result"
    },
    {
     "name": "stdout",
     "output_type": "stream",
     "text": [
      "Connecting to H2O server at http://localhost:54321.."
     ]
    },
    {
     "name": "stdout",
     "output_type": "stream",
     "text": [
      "."
     ]
    },
    {
     "name": "stdout",
     "output_type": "stream",
     "text": [
      " successful."
     ]
    },
    {
     "name": "stdout",
     "output_type": "stream",
     "text": [
      "\n"
     ]
    },
    {
     "data": {
      "text/html": [
       "<div style=\"overflow:auto\"><table style=\"width:50%\"><tr><td>H2O cluster uptime:</td>\n",
       "<td>5 hours 47 mins</td></tr>\n",
       "<tr><td>H2O cluster version:</td>\n",
       "<td>3.10.4.8</td></tr>\n",
       "<tr><td>H2O cluster version age:</td>\n",
       "<td>3 months and 25 days !!!</td></tr>\n",
       "<tr><td>H2O cluster name:</td>\n",
       "<td>H2O_from_python_Alonso_0qj9wo</td></tr>\n",
       "<tr><td>H2O cluster total nodes:</td>\n",
       "<td>1</td></tr>\n",
       "<tr><td>H2O cluster free memory:</td>\n",
       "<td>541 Mb</td></tr>\n",
       "<tr><td>H2O cluster total cores:</td>\n",
       "<td>4</td></tr>\n",
       "<tr><td>H2O cluster allowed cores:</td>\n",
       "<td>4</td></tr>\n",
       "<tr><td>H2O cluster status:</td>\n",
       "<td>locked, healthy</td></tr>\n",
       "<tr><td>H2O connection url:</td>\n",
       "<td>http://localhost:54321</td></tr>\n",
       "<tr><td>H2O connection proxy:</td>\n",
       "<td>None</td></tr>\n",
       "<tr><td>H2O internal security:</td>\n",
       "<td>False</td></tr>\n",
       "<tr><td>Python version:</td>\n",
       "<td>3.5.0 final</td></tr></table></div>"
      ],
      "text/plain": [
       "<div style=\"overflow:auto\"><table style=\"width:50%\"><tr><td>H2O cluster uptime:</td>\n",
       "<td>5 hours 47 mins</td></tr>\n",
       "<tr><td>H2O cluster version:</td>\n",
       "<td>3.10.4.8</td></tr>\n",
       "<tr><td>H2O cluster version age:</td>\n",
       "<td>3 months and 25 days !!!</td></tr>\n",
       "<tr><td>H2O cluster name:</td>\n",
       "<td>H2O_from_python_Alonso_0qj9wo</td></tr>\n",
       "<tr><td>H2O cluster total nodes:</td>\n",
       "<td>1</td></tr>\n",
       "<tr><td>H2O cluster free memory:</td>\n",
       "<td>541 Mb</td></tr>\n",
       "<tr><td>H2O cluster total cores:</td>\n",
       "<td>4</td></tr>\n",
       "<tr><td>H2O cluster allowed cores:</td>\n",
       "<td>4</td></tr>\n",
       "<tr><td>H2O cluster status:</td>\n",
       "<td>locked, healthy</td></tr>\n",
       "<tr><td>H2O connection url:</td>\n",
       "<td>http://localhost:54321</td></tr>\n",
       "<tr><td>H2O connection proxy:</td>\n",
       "<td>None</td></tr>\n",
       "<tr><td>H2O internal security:</td>\n",
       "<td>False</td></tr>\n",
       "<tr><td>Python version:</td>\n",
       "<td>3.5.0 final</td></tr></table></div>"
      ]
     },
     "execution_count": 0,
     "metadata": {},
     "output_type": "execute_result"
    },
    {
     "name": "stdout",
     "output_type": "stream",
     "text": [
      "Parse progress: |"
     ]
    },
    {
     "name": "stdout",
     "output_type": "stream",
     "text": [
      "█"
     ]
    },
    {
     "name": "stdout",
     "output_type": "stream",
     "text": [
      "█"
     ]
    },
    {
     "name": "stdout",
     "output_type": "stream",
     "text": [
      "█"
     ]
    },
    {
     "name": "stdout",
     "output_type": "stream",
     "text": [
      "█"
     ]
    },
    {
     "name": "stdout",
     "output_type": "stream",
     "text": [
      "█"
     ]
    },
    {
     "name": "stdout",
     "output_type": "stream",
     "text": [
      "█"
     ]
    },
    {
     "name": "stdout",
     "output_type": "stream",
     "text": [
      "█"
     ]
    },
    {
     "name": "stdout",
     "output_type": "stream",
     "text": [
      "█"
     ]
    },
    {
     "name": "stdout",
     "output_type": "stream",
     "text": [
      "█"
     ]
    },
    {
     "name": "stdout",
     "output_type": "stream",
     "text": [
      "█"
     ]
    },
    {
     "name": "stdout",
     "output_type": "stream",
     "text": [
      "█"
     ]
    },
    {
     "name": "stdout",
     "output_type": "stream",
     "text": [
      "█"
     ]
    },
    {
     "name": "stdout",
     "output_type": "stream",
     "text": [
      "█"
     ]
    },
    {
     "name": "stdout",
     "output_type": "stream",
     "text": [
      "█"
     ]
    },
    {
     "name": "stdout",
     "output_type": "stream",
     "text": [
      "█"
     ]
    },
    {
     "name": "stdout",
     "output_type": "stream",
     "text": [
      "██"
     ]
    },
    {
     "name": "stdout",
     "output_type": "stream",
     "text": [
      "█"
     ]
    },
    {
     "name": "stdout",
     "output_type": "stream",
     "text": [
      "█"
     ]
    },
    {
     "name": "stdout",
     "output_type": "stream",
     "text": [
      "█"
     ]
    },
    {
     "name": "stdout",
     "output_type": "stream",
     "text": [
      "█"
     ]
    },
    {
     "name": "stdout",
     "output_type": "stream",
     "text": [
      "█"
     ]
    },
    {
     "name": "stdout",
     "output_type": "stream",
     "text": [
      "█"
     ]
    },
    {
     "name": "stdout",
     "output_type": "stream",
     "text": [
      "█"
     ]
    },
    {
     "name": "stdout",
     "output_type": "stream",
     "text": [
      "█"
     ]
    },
    {
     "name": "stdout",
     "output_type": "stream",
     "text": [
      "█"
     ]
    },
    {
     "name": "stdout",
     "output_type": "stream",
     "text": [
      "█"
     ]
    },
    {
     "name": "stdout",
     "output_type": "stream",
     "text": [
      "█"
     ]
    },
    {
     "name": "stdout",
     "output_type": "stream",
     "text": [
      "█"
     ]
    },
    {
     "name": "stdout",
     "output_type": "stream",
     "text": [
      "█"
     ]
    },
    {
     "name": "stdout",
     "output_type": "stream",
     "text": [
      "█"
     ]
    },
    {
     "name": "stdout",
     "output_type": "stream",
     "text": [
      "█"
     ]
    },
    {
     "name": "stdout",
     "output_type": "stream",
     "text": [
      "█"
     ]
    },
    {
     "name": "stdout",
     "output_type": "stream",
     "text": [
      "████████████████████████| 100%"
     ]
    },
    {
     "name": "stdout",
     "output_type": "stream",
     "text": [
      "\n"
     ]
    },
    {
     "name": "stdout",
     "output_type": "stream",
     "text": [
      "Parse progress: |"
     ]
    },
    {
     "name": "stdout",
     "output_type": "stream",
     "text": [
      "█"
     ]
    },
    {
     "name": "stdout",
     "output_type": "stream",
     "text": [
      "█"
     ]
    },
    {
     "name": "stdout",
     "output_type": "stream",
     "text": [
      "█"
     ]
    },
    {
     "name": "stdout",
     "output_type": "stream",
     "text": [
      "█"
     ]
    },
    {
     "name": "stdout",
     "output_type": "stream",
     "text": [
      "█"
     ]
    },
    {
     "name": "stdout",
     "output_type": "stream",
     "text": [
      "█"
     ]
    },
    {
     "name": "stdout",
     "output_type": "stream",
     "text": [
      "█"
     ]
    },
    {
     "name": "stdout",
     "output_type": "stream",
     "text": [
      "█"
     ]
    },
    {
     "name": "stdout",
     "output_type": "stream",
     "text": [
      "█"
     ]
    },
    {
     "name": "stdout",
     "output_type": "stream",
     "text": [
      "█"
     ]
    },
    {
     "name": "stdout",
     "output_type": "stream",
     "text": [
      "█"
     ]
    },
    {
     "name": "stdout",
     "output_type": "stream",
     "text": [
      "█"
     ]
    },
    {
     "name": "stdout",
     "output_type": "stream",
     "text": [
      "█"
     ]
    },
    {
     "name": "stdout",
     "output_type": "stream",
     "text": [
      "█"
     ]
    },
    {
     "name": "stdout",
     "output_type": "stream",
     "text": [
      "█"
     ]
    },
    {
     "name": "stdout",
     "output_type": "stream",
     "text": [
      "█"
     ]
    },
    {
     "name": "stdout",
     "output_type": "stream",
     "text": [
      "█"
     ]
    },
    {
     "name": "stdout",
     "output_type": "stream",
     "text": [
      "█"
     ]
    },
    {
     "name": "stdout",
     "output_type": "stream",
     "text": [
      "█"
     ]
    },
    {
     "name": "stdout",
     "output_type": "stream",
     "text": [
      "██████████████████████████████████████| 100%"
     ]
    },
    {
     "name": "stdout",
     "output_type": "stream",
     "text": [
      "\n"
     ]
    },
    {
     "name": "stdout",
     "output_type": "stream",
     "text": [
      "naivebayes Model Build progress: |"
     ]
    },
    {
     "name": "stdout",
     "output_type": "stream",
     "text": [
      "█"
     ]
    },
    {
     "name": "stdout",
     "output_type": "stream",
     "text": [
      "█"
     ]
    },
    {
     "name": "stdout",
     "output_type": "stream",
     "text": [
      "█"
     ]
    },
    {
     "name": "stdout",
     "output_type": "stream",
     "text": [
      "█"
     ]
    },
    {
     "name": "stdout",
     "output_type": "stream",
     "text": [
      "█"
     ]
    },
    {
     "name": "stdout",
     "output_type": "stream",
     "text": [
      "█"
     ]
    },
    {
     "name": "stdout",
     "output_type": "stream",
     "text": [
      "█"
     ]
    },
    {
     "name": "stdout",
     "output_type": "stream",
     "text": [
      "█"
     ]
    },
    {
     "name": "stdout",
     "output_type": "stream",
     "text": [
      "█"
     ]
    },
    {
     "name": "stdout",
     "output_type": "stream",
     "text": [
      "█"
     ]
    },
    {
     "name": "stdout",
     "output_type": "stream",
     "text": [
      "█"
     ]
    },
    {
     "name": "stdout",
     "output_type": "stream",
     "text": [
      "█"
     ]
    },
    {
     "name": "stdout",
     "output_type": "stream",
     "text": [
      "█"
     ]
    },
    {
     "name": "stdout",
     "output_type": "stream",
     "text": [
      "█"
     ]
    },
    {
     "name": "stdout",
     "output_type": "stream",
     "text": [
      "█"
     ]
    },
    {
     "name": "stdout",
     "output_type": "stream",
     "text": [
      "█"
     ]
    },
    {
     "name": "stdout",
     "output_type": "stream",
     "text": [
      "█"
     ]
    },
    {
     "name": "stdout",
     "output_type": "stream",
     "text": [
      "█"
     ]
    },
    {
     "name": "stdout",
     "output_type": "stream",
     "text": [
      "█"
     ]
    },
    {
     "name": "stdout",
     "output_type": "stream",
     "text": [
      "█"
     ]
    },
    {
     "name": "stdout",
     "output_type": "stream",
     "text": [
      "█"
     ]
    },
    {
     "name": "stdout",
     "output_type": "stream",
     "text": [
      "█"
     ]
    },
    {
     "name": "stdout",
     "output_type": "stream",
     "text": [
      "█"
     ]
    },
    {
     "name": "stdout",
     "output_type": "stream",
     "text": [
      "█"
     ]
    },
    {
     "name": "stdout",
     "output_type": "stream",
     "text": [
      "█"
     ]
    },
    {
     "name": "stdout",
     "output_type": "stream",
     "text": [
      "█"
     ]
    },
    {
     "name": "stdout",
     "output_type": "stream",
     "text": [
      "█"
     ]
    },
    {
     "name": "stdout",
     "output_type": "stream",
     "text": [
      "█"
     ]
    },
    {
     "name": "stdout",
     "output_type": "stream",
     "text": [
      "█"
     ]
    },
    {
     "name": "stdout",
     "output_type": "stream",
     "text": [
      "█"
     ]
    },
    {
     "name": "stdout",
     "output_type": "stream",
     "text": [
      "█"
     ]
    },
    {
     "name": "stdout",
     "output_type": "stream",
     "text": [
      "█"
     ]
    },
    {
     "name": "stdout",
     "output_type": "stream",
     "text": [
      "█"
     ]
    },
    {
     "name": "stdout",
     "output_type": "stream",
     "text": [
      "█"
     ]
    },
    {
     "name": "stdout",
     "output_type": "stream",
     "text": [
      "█"
     ]
    },
    {
     "name": "stdout",
     "output_type": "stream",
     "text": [
      "█"
     ]
    },
    {
     "name": "stdout",
     "output_type": "stream",
     "text": [
      "█"
     ]
    },
    {
     "name": "stdout",
     "output_type": "stream",
     "text": [
      "█"
     ]
    },
    {
     "name": "stdout",
     "output_type": "stream",
     "text": [
      "█"
     ]
    },
    {
     "name": "stdout",
     "output_type": "stream",
     "text": [
      "█"
     ]
    },
    {
     "name": "stdout",
     "output_type": "stream",
     "text": [
      "| 100%"
     ]
    },
    {
     "name": "stdout",
     "output_type": "stream",
     "text": [
      "\n"
     ]
    },
    {
     "name": "stdout",
     "output_type": "stream",
     "text": [
      "naivebayes prediction progress: |"
     ]
    },
    {
     "name": "stdout",
     "output_type": "stream",
     "text": [
      "█"
     ]
    },
    {
     "name": "stdout",
     "output_type": "stream",
     "text": [
      "█"
     ]
    },
    {
     "name": "stdout",
     "output_type": "stream",
     "text": [
      "█"
     ]
    },
    {
     "name": "stdout",
     "output_type": "stream",
     "text": [
      "█"
     ]
    },
    {
     "name": "stdout",
     "output_type": "stream",
     "text": [
      "█"
     ]
    },
    {
     "name": "stdout",
     "output_type": "stream",
     "text": [
      "█"
     ]
    },
    {
     "name": "stdout",
     "output_type": "stream",
     "text": [
      "█"
     ]
    },
    {
     "name": "stdout",
     "output_type": "stream",
     "text": [
      "█"
     ]
    },
    {
     "name": "stdout",
     "output_type": "stream",
     "text": [
      "█"
     ]
    },
    {
     "name": "stdout",
     "output_type": "stream",
     "text": [
      "█"
     ]
    },
    {
     "name": "stdout",
     "output_type": "stream",
     "text": [
      "█"
     ]
    },
    {
     "name": "stdout",
     "output_type": "stream",
     "text": [
      "█"
     ]
    },
    {
     "name": "stdout",
     "output_type": "stream",
     "text": [
      "█"
     ]
    },
    {
     "name": "stdout",
     "output_type": "stream",
     "text": [
      "█"
     ]
    },
    {
     "name": "stdout",
     "output_type": "stream",
     "text": [
      "█"
     ]
    },
    {
     "name": "stdout",
     "output_type": "stream",
     "text": [
      "█"
     ]
    },
    {
     "name": "stdout",
     "output_type": "stream",
     "text": [
      "█"
     ]
    },
    {
     "name": "stdout",
     "output_type": "stream",
     "text": [
      "█"
     ]
    },
    {
     "name": "stdout",
     "output_type": "stream",
     "text": [
      "█"
     ]
    },
    {
     "name": "stdout",
     "output_type": "stream",
     "text": [
      "█"
     ]
    },
    {
     "name": "stdout",
     "output_type": "stream",
     "text": [
      "█"
     ]
    },
    {
     "name": "stdout",
     "output_type": "stream",
     "text": [
      "█"
     ]
    },
    {
     "name": "stdout",
     "output_type": "stream",
     "text": [
      "███████████████████| 100%"
     ]
    },
    {
     "name": "stdout",
     "output_type": "stream",
     "text": [
      "\n"
     ]
    }
   ],
   "source": [
    "h2o.init()\n",
    "h2o.connect()\n",
    "\n",
    "training = h2o.H2OFrame(tr_df)\n",
    "test = h2o.H2OFrame(ts_df)\n",
    "\n",
    "target_column = cols[-1]\n",
    "training_columns = cols[:-1]\n",
    "\n",
    "\n",
    "model = H2ONaiveBayesEstimator(nfolds=3, laplace=1)\n",
    "model.train(x=training_columns, y=target_column, training_frame=training, validation_frame=test)\n",
    "probabilities = model.predict(test)\n",
    "\n",
    "probs_array = []\n",
    "pred_array = []\n",
    "\n",
    "probabilities = probabilities.as_data_frame().values.tolist()\n",
    "for i in range(len(probabilities)):\n",
    "    if probabilities[i][0] >= threshold:\n",
    "        pred_array.append(1.0)\n",
    "    else:\n",
    "        pred_array.append(0.0)\n",
    "    probs_array.append(probabilities[i][0])"
   ]
  },
  {
   "cell_type": "code",
   "execution_count": 11,
   "metadata": {},
   "outputs": [
    {
     "name": "stdout",
     "output_type": "stream",
     "text": [
      "TP: 58908, FP: 60336, TN: 324699, FN: 46387"
     ]
    },
    {
     "name": "stdout",
     "output_type": "stream",
     "text": [
      "\n"
     ]
    },
    {
     "name": "stdout",
     "output_type": "stream",
     "text": [
      "Sensitivity or Recall: 55.945676432879054%"
     ]
    },
    {
     "name": "stdout",
     "output_type": "stream",
     "text": [
      "\n"
     ]
    },
    {
     "name": "stdout",
     "output_type": "stream",
     "text": [
      "Specificity: 84.32973625774281%"
     ]
    },
    {
     "name": "stdout",
     "output_type": "stream",
     "text": [
      "\n"
     ]
    },
    {
     "name": "stdout",
     "output_type": "stream",
     "text": [
      "Precision: 49.40122773472879%"
     ]
    },
    {
     "name": "stdout",
     "output_type": "stream",
     "text": [
      "\n"
     ]
    },
    {
     "name": "stdout",
     "output_type": "stream",
     "text": [
      "Error rate: 21.76554565292762%"
     ]
    },
    {
     "name": "stdout",
     "output_type": "stream",
     "text": [
      "\n"
     ]
    },
    {
     "name": "stdout",
     "output_type": "stream",
     "text": [
      "Accuracy: 78.23445434707239%"
     ]
    },
    {
     "name": "stdout",
     "output_type": "stream",
     "text": [
      "\n"
     ]
    },
    {
     "name": "stdout",
     "output_type": "stream",
     "text": [
      "F1 Score: 0.5247017221952535%"
     ]
    },
    {
     "name": "stdout",
     "output_type": "stream",
     "text": [
      "\n"
     ]
    }
   ],
   "source": [
    "tp, fp, tn, fn = 0, 0, 0, 0\n",
    "for x in range(len(ytest)):\n",
    "    if ytest[x] == pred_array[x] == 1:\n",
    "        tp += 1\n",
    "for x in range(len(ytest)):\n",
    "    if pred_array[x] == 1 and ytest[x] != pred_array[x]:\n",
    "        fp += 1\n",
    "for x in range(len(ytest)):\n",
    "    if ytest[x] == pred_array[x] == 0:\n",
    "        tn += 1\n",
    "for x in range(len(ytest)):\n",
    "    if pred_array[x] == 0 and ytest[x] != pred_array[x]:\n",
    "        fn += 1\n",
    "\n",
    "sensitivity = tp / (tp + fn)  # the fraction of positives that are correctly classified\n",
    "specificity = tn / (tn + fp)  # the fraction of negatives that are correctly classified\n",
    "precision = tp / (tp + fp)\n",
    "error_rate = (fp + fn) / (fp + fn + tp + tn)\n",
    "accuracy = 1.0 - error_rate\n",
    "f_score = (2 * precision * sensitivity) / (precision + sensitivity)\n",
    "print(\"TP: {0}, FP: {1}, TN: {2}, FN: {3}\".format(tp, fp, tn, fn))\n",
    "print(\"Sensitivity or Recall: {0}%\".format(sensitivity * 100.00))\n",
    "print(\"Specificity: {0}%\".format(specificity * 100.00))\n",
    "print(\"Precision: {0}%\".format(precision * 100.00))\n",
    "print(\"Error rate: {0}%\".format(error_rate * 100.00))\n",
    "print(\"Accuracy: {0}%\".format(accuracy * 100.00))\n",
    "print(\"F1 Score: {0}%\".format(f_score))"
   ]
  },
  {
   "cell_type": "code",
   "execution_count": 14,
   "metadata": {},
   "outputs": [
    {
     "name": "stdout",
     "output_type": "stream",
     "text": [
      "False"
     ]
    },
    {
     "name": "stdout",
     "output_type": "stream",
     "text": [
      "\n"
     ]
    },
    {
     "data": {
      "image/png": "[encoded data removed]",
      "text/plain": [
       "<matplotlib.figure.Figure at 0x10a207b38>"
      ]
     },
     "metadata": {},
     "output_type": "display_data"
    }
   ],
   "source": [
    "from sklearn.metrics import roc_curve, auc\n",
    "\n",
    "print(probs_array[0])\n",
    "\n",
    "false_positive_rate, true_positive_rate, thresholds = roc_curve(ytest, probs_array)\n",
    "roc_auc = auc(false_positive_rate, true_positive_rate)\n",
    "plt.title('Receiver Operating Characteristic')\n",
    "plt.plot(false_positive_rate, true_positive_rate, 'b',\n",
    "         label='AUC = %0.2f' % roc_auc)\n",
    "plt.legend(loc='lower right')\n",
    "plt.plot([0, 1], [0, 1], 'r--')\n",
    "plt.xlim([-0.1, 1.2])\n",
    "plt.ylim([-0.1, 1.2])\n",
    "plt.ylabel('True Positive Rate')\n",
    "plt.xlabel('False Positive Rate')\n",
    "plt.show()"
   ]
  },
  {
   "cell_type": "code",
   "execution_count": null,
   "metadata": {},
   "outputs": [],
   "source": [
    ""
   ]
  }
 ],
 "metadata": {
  "kernelspec": {
   "display_name": "Python 2",
   "language": "python",
   "name": "python2"
  },
  "language_info": {
   "codemirror_mode": {
    "name": "ipython",
    "version": 2.0
   },
   "file_extension": ".py",
   "mimetype": "text/x-python",
   "name": "python",
   "nbconvert_exporter": "python",
   "pygments_lexer": "ipython2",
   "version": "2.7.6"
  }
 },
 "nbformat": 4,
 "nbformat_minor": 0
}