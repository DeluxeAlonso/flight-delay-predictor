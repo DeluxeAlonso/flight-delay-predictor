{
 "cells": [
  {
   "cell_type": "code",
   "execution_count": 1,
   "metadata": {
    "collapsed": true
   },
   "outputs": [],
   "source": [
    "import pandas as pd\n",
    "import numpy as np\n",
    "import matplotlib.pyplot as plt\n",
    "import h2o\n",
    "from h2o.estimators import H2ORandomForestEstimator\n",
    "\n",
    "training_filename = 'Datasets/TrainingCorpus.csv'\n",
    "testing_filename = 'Datasets/TestingCorpus.csv'\n",
    "\n",
    "num_trees = 60\n",
    "max_depth = 20\n",
    "n_splits = 3\n",
    "threshold = 0.5"
   ]
  },
  {
   "cell_type": "code",
   "execution_count": 2,
   "metadata": {},
   "outputs": [],
   "source": [
    "tr_df = pd.read_csv(training_filename)\n",
    "ts_df = pd.read_csv(testing_filename)\n",
    "\n",
    "cols = list(tr_df.columns.values)\n",
    "\n",
    "ytest = ts_df.values[:, len(cols) - 1]"
   ]
  },
  {
   "cell_type": "code",
   "execution_count": 3,
   "metadata": {},
   "outputs": [
    {
     "name": "stdout",
     "output_type": "stream",
     "text": [
      "Checking whether there is an H2O instance running at http://localhost:54321"
     ]
    },
    {
     "name": "stdout",
     "output_type": "stream",
     "text": [
      "."
     ]
    },
    {
     "name": "stdout",
     "output_type": "stream",
     "text": [
      "."
     ]
    },
    {
     "name": "stdout",
     "output_type": "stream",
     "text": [
      "."
     ]
    },
    {
     "name": "stdout",
     "output_type": "stream",
     "text": [
      "."
     ]
    },
    {
     "name": "stdout",
     "output_type": "stream",
     "text": [
      "."
     ]
    },
    {
     "name": "stdout",
     "output_type": "stream",
     "text": [
      " not found."
     ]
    },
    {
     "name": "stdout",
     "output_type": "stream",
     "text": [
      "\n"
     ]
    },
    {
     "name": "stdout",
     "output_type": "stream",
     "text": [
      "Attempting to start a local H2O server..."
     ]
    },
    {
     "name": "stdout",
     "output_type": "stream",
     "text": [
      "\n"
     ]
    },
    {
     "name": "stdout",
     "output_type": "stream",
     "text": [
      "  Java Version: java version \"1.8.0_40\"; Java(TM) SE Runtime Environment (build 1.8.0_40-b27); Java HotSpot(TM) 64-Bit Server VM (build 25.40-b25, mixed mode)"
     ]
    },
    {
     "name": "stdout",
     "output_type": "stream",
     "text": [
      "\n"
     ]
    },
    {
     "name": "stdout",
     "output_type": "stream",
     "text": [
      "  Starting server from /Library/Frameworks/Python.framework/Versions/3.5/lib/python3.5/site-packages/h2o/backend/bin/h2o.jar"
     ]
    },
    {
     "name": "stdout",
     "output_type": "stream",
     "text": [
      "\n"
     ]
    },
    {
     "name": "stdout",
     "output_type": "stream",
     "text": [
      "  Ice root: /var/folders/z3/xy20bs3n5xz_pnkx07l70k0w0000gn/T/tmpz4oz1tl1"
     ]
    },
    {
     "name": "stdout",
     "output_type": "stream",
     "text": [
      "\n"
     ]
    },
    {
     "name": "stdout",
     "output_type": "stream",
     "text": [
      "  JVM stdout: /var/folders/z3/xy20bs3n5xz_pnkx07l70k0w0000gn/T/tmpz4oz1tl1/h2o_Alonso_started_from_python.out"
     ]
    },
    {
     "name": "stdout",
     "output_type": "stream",
     "text": [
      "\n"
     ]
    },
    {
     "name": "stdout",
     "output_type": "stream",
     "text": [
      "  JVM stderr: /var/folders/z3/xy20bs3n5xz_pnkx07l70k0w0000gn/T/tmpz4oz1tl1/h2o_Alonso_started_from_python.err"
     ]
    },
    {
     "name": "stdout",
     "output_type": "stream",
     "text": [
      "\n"
     ]
    },
    {
     "name": "stdout",
     "output_type": "stream",
     "text": [
      "  Server is running at http://127.0.0.1:54321"
     ]
    },
    {
     "name": "stdout",
     "output_type": "stream",
     "text": [
      "\n"
     ]
    },
    {
     "name": "stdout",
     "output_type": "stream",
     "text": [
      "Connecting to H2O server at http://127.0.0.1:54321.."
     ]
    },
    {
     "name": "stdout",
     "output_type": "stream",
     "text": [
      "."
     ]
    },
    {
     "name": "stdout",
     "output_type": "stream",
     "text": [
      " successful."
     ]
    },
    {
     "name": "stdout",
     "output_type": "stream",
     "text": [
      "\n"
     ]
    },
    {
     "name": "stdout",
     "output_type": "stream",
     "text": [
      "Warning: Your H2O cluster version is too old (3 months and 28 days)! Please download and install the latest version from http://h2o.ai/download/"
     ]
    },
    {
     "name": "stdout",
     "output_type": "stream",
     "text": [
      "\n"
     ]
    },
    {
     "data": {
      "text/html": [
       "<div style=\"overflow:auto\"><table style=\"width:50%\"><tr><td>H2O cluster uptime:</td>\n",
       "<td>03 secs</td></tr>\n",
       "<tr><td>H2O cluster version:</td>\n",
       "<td>3.10.4.8</td></tr>\n",
       "<tr><td>H2O cluster version age:</td>\n",
       "<td>3 months and 28 days !!!</td></tr>\n",
       "<tr><td>H2O cluster name:</td>\n",
       "<td>H2O_from_python_Alonso_hmyz4z</td></tr>\n",
       "<tr><td>H2O cluster total nodes:</td>\n",
       "<td>1</td></tr>\n",
       "<tr><td>H2O cluster free memory:</td>\n",
       "<td>1.778 Gb</td></tr>\n",
       "<tr><td>H2O cluster total cores:</td>\n",
       "<td>4</td></tr>\n",
       "<tr><td>H2O cluster allowed cores:</td>\n",
       "<td>4</td></tr>\n",
       "<tr><td>H2O cluster status:</td>\n",
       "<td>accepting new members, healthy</td></tr>\n",
       "<tr><td>H2O connection url:</td>\n",
       "<td>http://127.0.0.1:54321</td></tr>\n",
       "<tr><td>H2O connection proxy:</td>\n",
       "<td>None</td></tr>\n",
       "<tr><td>H2O internal security:</td>\n",
       "<td>False</td></tr>\n",
       "<tr><td>Python version:</td>\n",
       "<td>3.5.0 final</td></tr></table></div>"
      ],
      "text/plain": [
       "<div style=\"overflow:auto\"><table style=\"width:50%\"><tr><td>H2O cluster uptime:</td>\n",
       "<td>03 secs</td></tr>\n",
       "<tr><td>H2O cluster version:</td>\n",
       "<td>3.10.4.8</td></tr>\n",
       "<tr><td>H2O cluster version age:</td>\n",
       "<td>3 months and 28 days !!!</td></tr>\n",
       "<tr><td>H2O cluster name:</td>\n",
       "<td>H2O_from_python_Alonso_hmyz4z</td></tr>\n",
       "<tr><td>H2O cluster total nodes:</td>\n",
       "<td>1</td></tr>\n",
       "<tr><td>H2O cluster free memory:</td>\n",
       "<td>1.778 Gb</td></tr>\n",
       "<tr><td>H2O cluster total cores:</td>\n",
       "<td>4</td></tr>\n",
       "<tr><td>H2O cluster allowed cores:</td>\n",
       "<td>4</td></tr>\n",
       "<tr><td>H2O cluster status:</td>\n",
       "<td>accepting new members, healthy</td></tr>\n",
       "<tr><td>H2O connection url:</td>\n",
       "<td>http://127.0.0.1:54321</td></tr>\n",
       "<tr><td>H2O connection proxy:</td>\n",
       "<td>None</td></tr>\n",
       "<tr><td>H2O internal security:</td>\n",
       "<td>False</td></tr>\n",
       "<tr><td>Python version:</td>\n",
       "<td>3.5.0 final</td></tr></table></div>"
      ]
     },
     "execution_count": 0,
     "metadata": {},
     "output_type": "execute_result"
    },
    {
     "name": "stdout",
     "output_type": "stream",
     "text": [
      "Connecting to H2O server at http://localhost:54321.."
     ]
    },
    {
     "name": "stdout",
     "output_type": "stream",
     "text": [
      "."
     ]
    },
    {
     "name": "stdout",
     "output_type": "stream",
     "text": [
      " successful."
     ]
    },
    {
     "name": "stdout",
     "output_type": "stream",
     "text": [
      "\n"
     ]
    },
    {
     "data": {
      "text/html": [
       "<div style=\"overflow:auto\"><table style=\"width:50%\"><tr><td>H2O cluster uptime:</td>\n",
       "<td>03 secs</td></tr>\n",
       "<tr><td>H2O cluster version:</td>\n",
       "<td>3.10.4.8</td></tr>\n",
       "<tr><td>H2O cluster version age:</td>\n",
       "<td>3 months and 28 days !!!</td></tr>\n",
       "<tr><td>H2O cluster name:</td>\n",
       "<td>H2O_from_python_Alonso_hmyz4z</td></tr>\n",
       "<tr><td>H2O cluster total nodes:</td>\n",
       "<td>1</td></tr>\n",
       "<tr><td>H2O cluster free memory:</td>\n",
       "<td>1.778 Gb</td></tr>\n",
       "<tr><td>H2O cluster total cores:</td>\n",
       "<td>4</td></tr>\n",
       "<tr><td>H2O cluster allowed cores:</td>\n",
       "<td>4</td></tr>\n",
       "<tr><td>H2O cluster status:</td>\n",
       "<td>locked, healthy</td></tr>\n",
       "<tr><td>H2O connection url:</td>\n",
       "<td>http://localhost:54321</td></tr>\n",
       "<tr><td>H2O connection proxy:</td>\n",
       "<td>None</td></tr>\n",
       "<tr><td>H2O internal security:</td>\n",
       "<td>False</td></tr>\n",
       "<tr><td>Python version:</td>\n",
       "<td>3.5.0 final</td></tr></table></div>"
      ],
      "text/plain": [
       "<div style=\"overflow:auto\"><table style=\"width:50%\"><tr><td>H2O cluster uptime:</td>\n",
       "<td>03 secs</td></tr>\n",
       "<tr><td>H2O cluster version:</td>\n",
       "<td>3.10.4.8</td></tr>\n",
       "<tr><td>H2O cluster version age:</td>\n",
       "<td>3 months and 28 days !!!</td></tr>\n",
       "<tr><td>H2O cluster name:</td>\n",
       "<td>H2O_from_python_Alonso_hmyz4z</td></tr>\n",
       "<tr><td>H2O cluster total nodes:</td>\n",
       "<td>1</td></tr>\n",
       "<tr><td>H2O cluster free memory:</td>\n",
       "<td>1.778 Gb</td></tr>\n",
       "<tr><td>H2O cluster total cores:</td>\n",
       "<td>4</td></tr>\n",
       "<tr><td>H2O cluster allowed cores:</td>\n",
       "<td>4</td></tr>\n",
       "<tr><td>H2O cluster status:</td>\n",
       "<td>locked, healthy</td></tr>\n",
       "<tr><td>H2O connection url:</td>\n",
       "<td>http://localhost:54321</td></tr>\n",
       "<tr><td>H2O connection proxy:</td>\n",
       "<td>None</td></tr>\n",
       "<tr><td>H2O internal security:</td>\n",
       "<td>False</td></tr>\n",
       "<tr><td>Python version:</td>\n",
       "<td>3.5.0 final</td></tr></table></div>"
      ]
     },
     "execution_count": 0,
     "metadata": {},
     "output_type": "execute_result"
    },
    {
     "name": "stdout",
     "output_type": "stream",
     "text": [
      "Parse progress: |"
     ]
    },
    {
     "name": "stdout",
     "output_type": "stream",
     "text": [
      "█"
     ]
    },
    {
     "name": "stdout",
     "output_type": "stream",
     "text": [
      "█"
     ]
    },
    {
     "name": "stdout",
     "output_type": "stream",
     "text": [
      "█"
     ]
    },
    {
     "name": "stdout",
     "output_type": "stream",
     "text": [
      "█"
     ]
    },
    {
     "name": "stdout",
     "output_type": "stream",
     "text": [
      "█"
     ]
    },
    {
     "name": "stdout",
     "output_type": "stream",
     "text": [
      "█"
     ]
    },
    {
     "name": "stdout",
     "output_type": "stream",
     "text": [
      "█"
     ]
    },
    {
     "name": "stdout",
     "output_type": "stream",
     "text": [
      "█"
     ]
    },
    {
     "name": "stdout",
     "output_type": "stream",
     "text": [
      "█"
     ]
    },
    {
     "name": "stdout",
     "output_type": "stream",
     "text": [
      "█"
     ]
    },
    {
     "name": "stdout",
     "output_type": "stream",
     "text": [
      "█"
     ]
    },
    {
     "name": "stdout",
     "output_type": "stream",
     "text": [
      "█"
     ]
    },
    {
     "name": "stdout",
     "output_type": "stream",
     "text": [
      "█"
     ]
    },
    {
     "name": "stdout",
     "output_type": "stream",
     "text": [
      "█"
     ]
    },
    {
     "name": "stdout",
     "output_type": "stream",
     "text": [
      "█"
     ]
    },
    {
     "name": "stdout",
     "output_type": "stream",
     "text": [
      "█"
     ]
    },
    {
     "name": "stdout",
     "output_type": "stream",
     "text": [
      "█"
     ]
    },
    {
     "name": "stdout",
     "output_type": "stream",
     "text": [
      "█"
     ]
    },
    {
     "name": "stdout",
     "output_type": "stream",
     "text": [
      "█"
     ]
    },
    {
     "name": "stdout",
     "output_type": "stream",
     "text": [
      "█"
     ]
    },
    {
     "name": "stdout",
     "output_type": "stream",
     "text": [
      "█"
     ]
    },
    {
     "name": "stdout",
     "output_type": "stream",
     "text": [
      "█"
     ]
    },
    {
     "name": "stdout",
     "output_type": "stream",
     "text": [
      "█"
     ]
    },
    {
     "name": "stdout",
     "output_type": "stream",
     "text": [
      "█"
     ]
    },
    {
     "name": "stdout",
     "output_type": "stream",
     "text": [
      "█"
     ]
    },
    {
     "name": "stdout",
     "output_type": "stream",
     "text": [
      "█"
     ]
    },
    {
     "name": "stdout",
     "output_type": "stream",
     "text": [
      "█"
     ]
    },
    {
     "name": "stdout",
     "output_type": "stream",
     "text": [
      "█"
     ]
    },
    {
     "name": "stdout",
     "output_type": "stream",
     "text": [
      "█"
     ]
    },
    {
     "name": "stdout",
     "output_type": "stream",
     "text": [
      "█"
     ]
    },
    {
     "name": "stdout",
     "output_type": "stream",
     "text": [
      "█"
     ]
    },
    {
     "name": "stdout",
     "output_type": "stream",
     "text": [
      "█"
     ]
    },
    {
     "name": "stdout",
     "output_type": "stream",
     "text": [
      "█"
     ]
    },
    {
     "name": "stdout",
     "output_type": "stream",
     "text": [
      "█"
     ]
    },
    {
     "name": "stdout",
     "output_type": "stream",
     "text": [
      "█"
     ]
    },
    {
     "name": "stdout",
     "output_type": "stream",
     "text": [
      "█"
     ]
    },
    {
     "name": "stdout",
     "output_type": "stream",
     "text": [
      "█"
     ]
    },
    {
     "name": "stdout",
     "output_type": "stream",
     "text": [
      "█"
     ]
    },
    {
     "name": "stdout",
     "output_type": "stream",
     "text": [
      "█"
     ]
    },
    {
     "name": "stdout",
     "output_type": "stream",
     "text": [
      "█"
     ]
    },
    {
     "name": "stdout",
     "output_type": "stream",
     "text": [
      "█"
     ]
    },
    {
     "name": "stdout",
     "output_type": "stream",
     "text": [
      "█"
     ]
    },
    {
     "name": "stdout",
     "output_type": "stream",
     "text": [
      "█"
     ]
    },
    {
     "name": "stdout",
     "output_type": "stream",
     "text": [
      "█"
     ]
    },
    {
     "name": "stdout",
     "output_type": "stream",
     "text": [
      "█"
     ]
    },
    {
     "name": "stdout",
     "output_type": "stream",
     "text": [
      "█"
     ]
    },
    {
     "name": "stdout",
     "output_type": "stream",
     "text": [
      "█"
     ]
    },
    {
     "name": "stdout",
     "output_type": "stream",
     "text": [
      "█"
     ]
    },
    {
     "name": "stdout",
     "output_type": "stream",
     "text": [
      "█"
     ]
    },
    {
     "name": "stdout",
     "output_type": "stream",
     "text": [
      "█"
     ]
    },
    {
     "name": "stdout",
     "output_type": "stream",
     "text": [
      "█"
     ]
    },
    {
     "name": "stdout",
     "output_type": "stream",
     "text": [
      "█"
     ]
    },
    {
     "name": "stdout",
     "output_type": "stream",
     "text": [
      "█"
     ]
    },
    {
     "name": "stdout",
     "output_type": "stream",
     "text": [
      "█"
     ]
    },
    {
     "name": "stdout",
     "output_type": "stream",
     "text": [
      "█"
     ]
    },
    {
     "name": "stdout",
     "output_type": "stream",
     "text": [
      "██| 100%"
     ]
    },
    {
     "name": "stdout",
     "output_type": "stream",
     "text": [
      "\n"
     ]
    },
    {
     "name": "stdout",
     "output_type": "stream",
     "text": [
      "Parse progress: |"
     ]
    },
    {
     "name": "stdout",
     "output_type": "stream",
     "text": [
      "█"
     ]
    },
    {
     "name": "stdout",
     "output_type": "stream",
     "text": [
      "█"
     ]
    },
    {
     "name": "stdout",
     "output_type": "stream",
     "text": [
      "█"
     ]
    },
    {
     "name": "stdout",
     "output_type": "stream",
     "text": [
      "█"
     ]
    },
    {
     "name": "stdout",
     "output_type": "stream",
     "text": [
      "█"
     ]
    },
    {
     "name": "stdout",
     "output_type": "stream",
     "text": [
      "█"
     ]
    },
    {
     "name": "stdout",
     "output_type": "stream",
     "text": [
      "█"
     ]
    },
    {
     "name": "stdout",
     "output_type": "stream",
     "text": [
      "█"
     ]
    },
    {
     "name": "stdout",
     "output_type": "stream",
     "text": [
      "█"
     ]
    },
    {
     "name": "stdout",
     "output_type": "stream",
     "text": [
      "█"
     ]
    },
    {
     "name": "stdout",
     "output_type": "stream",
     "text": [
      "█"
     ]
    },
    {
     "name": "stdout",
     "output_type": "stream",
     "text": [
      "█"
     ]
    },
    {
     "name": "stdout",
     "output_type": "stream",
     "text": [
      "█"
     ]
    },
    {
     "name": "stdout",
     "output_type": "stream",
     "text": [
      "█"
     ]
    },
    {
     "name": "stdout",
     "output_type": "stream",
     "text": [
      "█"
     ]
    },
    {
     "name": "stdout",
     "output_type": "stream",
     "text": [
      "█"
     ]
    },
    {
     "name": "stdout",
     "output_type": "stream",
     "text": [
      "█"
     ]
    },
    {
     "name": "stdout",
     "output_type": "stream",
     "text": [
      "█"
     ]
    },
    {
     "name": "stdout",
     "output_type": "stream",
     "text": [
      "█"
     ]
    },
    {
     "name": "stdout",
     "output_type": "stream",
     "text": [
      "█"
     ]
    },
    {
     "name": "stdout",
     "output_type": "stream",
     "text": [
      "█"
     ]
    },
    {
     "name": "stdout",
     "output_type": "stream",
     "text": [
      "█"
     ]
    },
    {
     "name": "stdout",
     "output_type": "stream",
     "text": [
      "█"
     ]
    },
    {
     "name": "stdout",
     "output_type": "stream",
     "text": [
      "█"
     ]
    },
    {
     "name": "stdout",
     "output_type": "stream",
     "text": [
      "█"
     ]
    },
    {
     "name": "stdout",
     "output_type": "stream",
     "text": [
      "█"
     ]
    },
    {
     "name": "stdout",
     "output_type": "stream",
     "text": [
      "█"
     ]
    },
    {
     "name": "stdout",
     "output_type": "stream",
     "text": [
      "█"
     ]
    },
    {
     "name": "stdout",
     "output_type": "stream",
     "text": [
      "█"
     ]
    },
    {
     "name": "stdout",
     "output_type": "stream",
     "text": [
      "█"
     ]
    },
    {
     "name": "stdout",
     "output_type": "stream",
     "text": [
      "█"
     ]
    },
    {
     "name": "stdout",
     "output_type": "stream",
     "text": [
      "█"
     ]
    },
    {
     "name": "stdout",
     "output_type": "stream",
     "text": [
      "█"
     ]
    },
    {
     "name": "stdout",
     "output_type": "stream",
     "text": [
      "█"
     ]
    },
    {
     "name": "stdout",
     "output_type": "stream",
     "text": [
      "█"
     ]
    },
    {
     "name": "stdout",
     "output_type": "stream",
     "text": [
      "█"
     ]
    },
    {
     "name": "stdout",
     "output_type": "stream",
     "text": [
      "█████████████████████| 100%"
     ]
    },
    {
     "name": "stdout",
     "output_type": "stream",
     "text": [
      "\n"
     ]
    },
    {
     "name": "stdout",
     "output_type": "stream",
     "text": [
      "DELAYED"
     ]
    },
    {
     "name": "stdout",
     "output_type": "stream",
     "text": [
      "\n"
     ]
    },
    {
     "name": "stdout",
     "output_type": "stream",
     "text": [
      "['MONTH', 'DAY_OF_MONTH', 'DAY_OF_WEEK', 'ORIGIN_AIRPORT', 'DEST_AIRPORT', 'DEPARTURE_TIME', 'FL_NUMBER', 'TAIL_NUMBER', 'ELAPSED_TIME', 'DAYS_TO_HOLIDAY', 'TEMPERATURE', 'SKY_CONTIDION', 'WIND_SPEED', 'PRESSURE', 'HUMIDITY', 'ALTIMETER', 'RAIN', 'SNOW', 'FOG', 'MIST', 'FREEZING']"
     ]
    },
    {
     "name": "stdout",
     "output_type": "stream",
     "text": [
      "\n"
     ]
    },
    {
     "name": "stdout",
     "output_type": "stream",
     "text": [
      "drf Model Build progress: |"
     ]
    },
    {
     "name": "stdout",
     "output_type": "stream",
     "text": [
      "█"
     ]
    },
    {
     "name": "stdout",
     "output_type": "stream",
     "text": [
      "█"
     ]
    },
    {
     "name": "stdout",
     "output_type": "stream",
     "text": [
      "█"
     ]
    },
    {
     "name": "stdout",
     "output_type": "stream",
     "text": [
      "█"
     ]
    },
    {
     "name": "stdout",
     "output_type": "stream",
     "text": [
      "█"
     ]
    },
    {
     "name": "stdout",
     "output_type": "stream",
     "text": [
      "█"
     ]
    },
    {
     "name": "stdout",
     "output_type": "stream",
     "text": [
      "█"
     ]
    },
    {
     "name": "stdout",
     "output_type": "stream",
     "text": [
      "█"
     ]
    },
    {
     "name": "stdout",
     "output_type": "stream",
     "text": [
      "█"
     ]
    },
    {
     "name": "stdout",
     "output_type": "stream",
     "text": [
      "█"
     ]
    },
    {
     "name": "stdout",
     "output_type": "stream",
     "text": [
      "█"
     ]
    },
    {
     "name": "stdout",
     "output_type": "stream",
     "text": [
      "█"
     ]
    },
    {
     "name": "stdout",
     "output_type": "stream",
     "text": [
      "█"
     ]
    },
    {
     "name": "stdout",
     "output_type": "stream",
     "text": [
      "█"
     ]
    },
    {
     "name": "stdout",
     "output_type": "stream",
     "text": [
      "█"
     ]
    },
    {
     "name": "stdout",
     "output_type": "stream",
     "text": [
      "█"
     ]
    },
    {
     "name": "stdout",
     "output_type": "stream",
     "text": [
      "█"
     ]
    },
    {
     "name": "stdout",
     "output_type": "stream",
     "text": [
      "█"
     ]
    },
    {
     "name": "stdout",
     "output_type": "stream",
     "text": [
      "█"
     ]
    },
    {
     "name": "stdout",
     "output_type": "stream",
     "text": [
      "█"
     ]
    },
    {
     "name": "stdout",
     "output_type": "stream",
     "text": [
      "█"
     ]
    },
    {
     "name": "stdout",
     "output_type": "stream",
     "text": [
      "█"
     ]
    },
    {
     "name": "stdout",
     "output_type": "stream",
     "text": [
      "█"
     ]
    },
    {
     "name": "stdout",
     "output_type": "stream",
     "text": [
      "█"
     ]
    },
    {
     "name": "stdout",
     "output_type": "stream",
     "text": [
      "█"
     ]
    },
    {
     "name": "stdout",
     "output_type": "stream",
     "text": [
      "█"
     ]
    },
    {
     "name": "stdout",
     "output_type": "stream",
     "text": [
      "█"
     ]
    },
    {
     "name": "stdout",
     "output_type": "stream",
     "text": [
      "█"
     ]
    },
    {
     "name": "stdout",
     "output_type": "stream",
     "text": [
      "█"
     ]
    },
    {
     "name": "stdout",
     "output_type": "stream",
     "text": [
      "█"
     ]
    },
    {
     "name": "stdout",
     "output_type": "stream",
     "text": [
      "█"
     ]
    },
    {
     "name": "stdout",
     "output_type": "stream",
     "text": [
      "█"
     ]
    },
    {
     "name": "stdout",
     "output_type": "stream",
     "text": [
      "█"
     ]
    },
    {
     "name": "stdout",
     "output_type": "stream",
     "text": [
      "█"
     ]
    },
    {
     "name": "stdout",
     "output_type": "stream",
     "text": [
      "█"
     ]
    },
    {
     "name": "stdout",
     "output_type": "stream",
     "text": [
      "█"
     ]
    },
    {
     "name": "stdout",
     "output_type": "stream",
     "text": [
      "█"
     ]
    },
    {
     "name": "stdout",
     "output_type": "stream",
     "text": [
      "█"
     ]
    },
    {
     "name": "stdout",
     "output_type": "stream",
     "text": [
      "█"
     ]
    },
    {
     "name": "stdout",
     "output_type": "stream",
     "text": [
      "█"
     ]
    },
    {
     "name": "stdout",
     "output_type": "stream",
     "text": [
      "█"
     ]
    },
    {
     "name": "stdout",
     "output_type": "stream",
     "text": [
      "█"
     ]
    },
    {
     "name": "stdout",
     "output_type": "stream",
     "text": [
      "█"
     ]
    },
    {
     "name": "stdout",
     "output_type": "stream",
     "text": [
      "█"
     ]
    },
    {
     "name": "stdout",
     "output_type": "stream",
     "text": [
      "█"
     ]
    },
    {
     "name": "stdout",
     "output_type": "stream",
     "text": [
      "█"
     ]
    },
    {
     "name": "stdout",
     "output_type": "stream",
     "text": [
      "█| 100%"
     ]
    },
    {
     "name": "stdout",
     "output_type": "stream",
     "text": [
      "\n"
     ]
    },
    {
     "name": "stdout",
     "output_type": "stream",
     "text": [
      "drf prediction progress: |"
     ]
    },
    {
     "name": "stdout",
     "output_type": "stream",
     "text": [
      "█"
     ]
    },
    {
     "name": "stdout",
     "output_type": "stream",
     "text": [
      "█"
     ]
    },
    {
     "name": "stdout",
     "output_type": "stream",
     "text": [
      "█"
     ]
    },
    {
     "name": "stdout",
     "output_type": "stream",
     "text": [
      "█"
     ]
    },
    {
     "name": "stdout",
     "output_type": "stream",
     "text": [
      "█"
     ]
    },
    {
     "name": "stdout",
     "output_type": "stream",
     "text": [
      "█"
     ]
    },
    {
     "name": "stdout",
     "output_type": "stream",
     "text": [
      "█"
     ]
    },
    {
     "name": "stdout",
     "output_type": "stream",
     "text": [
      "█"
     ]
    },
    {
     "name": "stdout",
     "output_type": "stream",
     "text": [
      "█"
     ]
    },
    {
     "name": "stdout",
     "output_type": "stream",
     "text": [
      "█"
     ]
    },
    {
     "name": "stdout",
     "output_type": "stream",
     "text": [
      "█"
     ]
    },
    {
     "name": "stdout",
     "output_type": "stream",
     "text": [
      "█"
     ]
    },
    {
     "name": "stdout",
     "output_type": "stream",
     "text": [
      "█"
     ]
    },
    {
     "name": "stdout",
     "output_type": "stream",
     "text": [
      "█"
     ]
    },
    {
     "name": "stdout",
     "output_type": "stream",
     "text": [
      "█"
     ]
    },
    {
     "name": "stdout",
     "output_type": "stream",
     "text": [
      "█"
     ]
    },
    {
     "name": "stdout",
     "output_type": "stream",
     "text": [
      "█"
     ]
    },
    {
     "name": "stdout",
     "output_type": "stream",
     "text": [
      "█"
     ]
    },
    {
     "name": "stdout",
     "output_type": "stream",
     "text": [
      "█"
     ]
    },
    {
     "name": "stdout",
     "output_type": "stream",
     "text": [
      "█"
     ]
    },
    {
     "name": "stdout",
     "output_type": "stream",
     "text": [
      "█"
     ]
    },
    {
     "name": "stdout",
     "output_type": "stream",
     "text": [
      "█"
     ]
    },
    {
     "name": "stdout",
     "output_type": "stream",
     "text": [
      "█"
     ]
    },
    {
     "name": "stdout",
     "output_type": "stream",
     "text": [
      "█"
     ]
    },
    {
     "name": "stdout",
     "output_type": "stream",
     "text": [
      "█"
     ]
    },
    {
     "name": "stdout",
     "output_type": "stream",
     "text": [
      "█"
     ]
    },
    {
     "name": "stdout",
     "output_type": "stream",
     "text": [
      "█"
     ]
    },
    {
     "name": "stdout",
     "output_type": "stream",
     "text": [
      "█"
     ]
    },
    {
     "name": "stdout",
     "output_type": "stream",
     "text": [
      "█"
     ]
    },
    {
     "name": "stdout",
     "output_type": "stream",
     "text": [
      "█"
     ]
    },
    {
     "name": "stdout",
     "output_type": "stream",
     "text": [
      "█"
     ]
    },
    {
     "name": "stdout",
     "output_type": "stream",
     "text": [
      "█"
     ]
    },
    {
     "name": "stdout",
     "output_type": "stream",
     "text": [
      "█"
     ]
    },
    {
     "name": "stdout",
     "output_type": "stream",
     "text": [
      "█"
     ]
    },
    {
     "name": "stdout",
     "output_type": "stream",
     "text": [
      "█"
     ]
    },
    {
     "name": "stdout",
     "output_type": "stream",
     "text": [
      "█"
     ]
    },
    {
     "name": "stdout",
     "output_type": "stream",
     "text": [
      "█"
     ]
    },
    {
     "name": "stdout",
     "output_type": "stream",
     "text": [
      "█"
     ]
    },
    {
     "name": "stdout",
     "output_type": "stream",
     "text": [
      "█"
     ]
    },
    {
     "name": "stdout",
     "output_type": "stream",
     "text": [
      "█"
     ]
    },
    {
     "name": "stdout",
     "output_type": "stream",
     "text": [
      "█"
     ]
    },
    {
     "name": "stdout",
     "output_type": "stream",
     "text": [
      "█"
     ]
    },
    {
     "name": "stdout",
     "output_type": "stream",
     "text": [
      "█"
     ]
    },
    {
     "name": "stdout",
     "output_type": "stream",
     "text": [
      "█████| 100%"
     ]
    },
    {
     "name": "stdout",
     "output_type": "stream",
     "text": [
      "\n"
     ]
    }
   ],
   "source": [
    "h2o.init()\n",
    "h2o.connect()\n",
    "\n",
    "training = h2o.H2OFrame(tr_df)\n",
    "test = h2o.H2OFrame(ts_df)\n",
    "\n",
    "target_column = cols[-1]\n",
    "training_columns = cols[:-1]\n",
    "\n",
    "print(target_column)\n",
    "print(training_columns)\n",
    "\n",
    "model = H2ORandomForestEstimator(ntrees=num_trees, max_depth=max_depth, nfolds=n_splits)\n",
    "model.train(x=training_columns, y=target_column, training_frame=training, validation_frame=test)\n",
    "probabilities = model.predict(test)\n",
    "\n",
    "probs_array = []\n",
    "pred_array = []\n",
    "\n",
    "probabilities = probabilities.as_data_frame().values.tolist()\n",
    "for i in range(len(probabilities)):\n",
    "    if probabilities[i][0] >= threshold:\n",
    "        pred_array.append(1.0)\n",
    "    else:\n",
    "        pred_array.append(0.0)\n",
    "    probs_array.append(probabilities[i][0])"
   ]
  },
  {
   "cell_type": "code",
   "execution_count": 4,
   "metadata": {},
   "outputs": [
    {
     "name": "stdout",
     "output_type": "stream",
     "text": [
      "TP: 39787, FP: 18726, TN: 366309, FN: 65508"
     ]
    },
    {
     "name": "stdout",
     "output_type": "stream",
     "text": [
      "\n"
     ]
    },
    {
     "name": "stdout",
     "output_type": "stream",
     "text": [
      "Sensitivity or Recall: 37.78621966855027%"
     ]
    },
    {
     "name": "stdout",
     "output_type": "stream",
     "text": [
      "\n"
     ]
    },
    {
     "name": "stdout",
     "output_type": "stream",
     "text": [
      "Specificity: 95.13654602828314%"
     ]
    },
    {
     "name": "stdout",
     "output_type": "stream",
     "text": [
      "\n"
     ]
    },
    {
     "name": "stdout",
     "output_type": "stream",
     "text": [
      "Precision: 67.99685539965478%"
     ]
    },
    {
     "name": "stdout",
     "output_type": "stream",
     "text": [
      "\n"
     ]
    },
    {
     "name": "stdout",
     "output_type": "stream",
     "text": [
      "Error rate: 17.179042685538313%"
     ]
    },
    {
     "name": "stdout",
     "output_type": "stream",
     "text": [
      "\n"
     ]
    },
    {
     "name": "stdout",
     "output_type": "stream",
     "text": [
      "Accuracy: 82.82095731446168%"
     ]
    },
    {
     "name": "stdout",
     "output_type": "stream",
     "text": [
      "\n"
     ]
    },
    {
     "name": "stdout",
     "output_type": "stream",
     "text": [
      "F1 Score: 0.48577603047470214%"
     ]
    },
    {
     "name": "stdout",
     "output_type": "stream",
     "text": [
      "\n"
     ]
    }
   ],
   "source": [
    "tp, fp, tn, fn = 0, 0, 0, 0\n",
    "for x in range(len(ytest)):\n",
    "    if ytest[x] == pred_array[x] == 1:\n",
    "        tp += 1\n",
    "for x in range(len(ytest)):\n",
    "    if pred_array[x] == 1 and ytest[x] != pred_array[x]:\n",
    "        fp += 1\n",
    "for x in range(len(ytest)):\n",
    "    if ytest[x] == pred_array[x] == 0:\n",
    "        tn += 1\n",
    "for x in range(len(ytest)):\n",
    "    if pred_array[x] == 0 and ytest[x] != pred_array[x]:\n",
    "        fn += 1\n",
    "\n",
    "sensitivity = tp / (tp + fn)  # the fraction of positives that are correctly classified\n",
    "specificity = tn / (tn + fp)  # the fraction of negatives that are correctly classified\n",
    "precision = tp / (tp + fp)\n",
    "error_rate = (fp + fn) / (fp + fn + tp + tn)\n",
    "accuracy = 1.0 - error_rate\n",
    "f_score = (2 * precision * sensitivity) / (precision + sensitivity)\n",
    "print(\"TP: {0}, FP: {1}, TN: {2}, FN: {3}\".format(tp, fp, tn, fn))\n",
    "print(\"Sensitivity or Recall: {0}%\".format(sensitivity * 100.00))\n",
    "print(\"Specificity: {0}%\".format(specificity * 100.00))\n",
    "print(\"Precision: {0}%\".format(precision * 100.00))\n",
    "print(\"Error rate: {0}%\".format(error_rate * 100.00))\n",
    "print(\"Accuracy: {0}%\".format(accuracy * 100.00))\n",
    "print(\"F1 Score: {0}%\".format(f_score))"
   ]
  },
  {
   "cell_type": "code",
   "execution_count": 5,
   "metadata": {
    "collapsed": false
   },
   "outputs": [
    {
     "data": {
      "image/png": "[encoded data removed]",
      "text/plain": [
       "<matplotlib.figure.Figure at 0x1078ae8d0>"
      ]
     },
     "metadata": {},
     "output_type": "display_data"
    }
   ],
   "source": [
    "from sklearn.metrics import roc_curve, auc\n",
    "\n",
    "false_positive_rate, true_positive_rate, thresholds = roc_curve(ytest, probs_array)\n",
    "roc_auc = auc(false_positive_rate, true_positive_rate)\n",
    "plt.title('Receiver Operating Characteristic')\n",
    "plt.plot(false_positive_rate, true_positive_rate, 'b',\n",
    "         label='AUC = %0.2f' % roc_auc)\n",
    "plt.legend(loc='lower right')\n",
    "plt.plot([0, 1], [0, 1], 'r--')\n",
    "plt.xlim([-0.1, 1.2])\n",
    "plt.ylim([-0.1, 1.2])\n",
    "plt.ylabel('True Positive Rate')\n",
    "plt.xlabel('False Positive Rate')\n",
    "plt.show()"
   ]
  },
  {
   "cell_type": "code",
   "execution_count": null,
   "metadata": {},
   "outputs": [],
   "source": [
    ""
   ]
  }
 ],
 "metadata": {
  "kernelspec": {
   "display_name": "Python 2",
   "language": "python",
   "name": "python2"
  },
  "language_info": {
   "codemirror_mode": {
    "name": "ipython",
    "version": 2.0
   },
   "file_extension": ".py",
   "mimetype": "text/x-python",
   "name": "python",
   "nbconvert_exporter": "python",
   "pygments_lexer": "ipython2",
   "version": "2.7.6"
  }
 },
 "nbformat": 4,
 "nbformat_minor": 0
}