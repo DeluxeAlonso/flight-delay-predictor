{
 "cells": [
  {
   "cell_type": "code",
   "execution_count": 2,
   "metadata": {
    "collapsed": true
   },
   "outputs": [],
   "source": [
    "from Algorithms.NaiveBayes import NaiveBayes\n",
    "from Algorithms.RandomForest import RandomForest\n",
    "from DataExploration import DataExploration as expl\n",
    "from EvaluationMeasure import EvaluationMeasure as eval\n",
    "from Utils import Utils, FeatureEngineering\n",
    "\n",
    "training_filename = 'Datasets/TrainingDataset.csv'\n",
    "testing_filename = 'Datasets/TestingDataset.csv'\n",
    "\n",
    "training_dataset = Utils.load_processed_dataset(training_filename, include_weather=True)\n",
    "testing_dataset = Utils.load_processed_dataset(testing_filename, include_weather=True)"
   ]
  },
  {
   "cell_type": "heading",
   "metadata": {},
   "level": 1,
   "source": [
    ""
   ]
  },
  {
   "cell_type": "code",
   "execution_count": 2,
   "metadata": {},
   "outputs": [
    {
     "name": "stdout",
     "output_type": "stream",
     "text": [
      "TP: 38611, FP: 42908, TN: 342127, FN: 66684"
     ]
    },
    {
     "name": "stdout",
     "output_type": "stream",
     "text": [
      "\n"
     ]
    },
    {
     "name": "stdout",
     "output_type": "stream",
     "text": [
      "Sensitivity or Recall: 36.6693575193504%"
     ]
    },
    {
     "name": "stdout",
     "output_type": "stream",
     "text": [
      "\n"
     ]
    },
    {
     "name": "stdout",
     "output_type": "stream",
     "text": [
      "Specificity: 88.8560780188814%"
     ]
    },
    {
     "name": "stdout",
     "output_type": "stream",
     "text": [
      "\n"
     ]
    },
    {
     "name": "stdout",
     "output_type": "stream",
     "text": [
      "Precision: 47.3644181111152%"
     ]
    },
    {
     "name": "stdout",
     "output_type": "stream",
     "text": [
      "\n"
     ]
    },
    {
     "name": "stdout",
     "output_type": "stream",
     "text": [
      "Error rate: 22.35066179919646%"
     ]
    },
    {
     "name": "stdout",
     "output_type": "stream",
     "text": [
      "\n"
     ]
    },
    {
     "name": "stdout",
     "output_type": "stream",
     "text": [
      "Accuracy: 77.64933820080354%"
     ]
    },
    {
     "name": "stdout",
     "output_type": "stream",
     "text": [
      "\n"
     ]
    },
    {
     "name": "stdout",
     "output_type": "stream",
     "text": [
      "F1 Score: 0.41336302418448295%"
     ]
    },
    {
     "name": "stdout",
     "output_type": "stream",
     "text": [
      "\n"
     ]
    },
    {
     "data": {
      "image/png": "[encoded data removed]",
      "text/plain": [
       "<matplotlib.figure.Figure at 0x109fa3be0>"
      ]
     },
     "metadata": {},
     "output_type": "display_data"
    },
    {
     "data": {
      "image/png": "[encoded data removed]",
      "text/plain": [
       "<matplotlib.figure.Figure at 0x10a4c6d68>"
      ]
     },
     "metadata": {},
     "output_type": "display_data"
    }
   ],
   "source": [
    "# Model preparation\n",
    "separated_training_dataset = NaiveBayes.separate_by_class(training_dataset, 0)\n",
    "prior_probability = len(separated_training_dataset[0]) / (len(training_dataset))\n",
    "numerical_summaries = NaiveBayes.summarize_numerical_values_by_class(separated_training_dataset)\n",
    "categorical_summaries = NaiveBayes.summarize_categorical_values_by_class(training_dataset)\n",
    "summaries = [numerical_summaries, categorical_summaries]\n",
    "# Model testing\n",
    "predictions, probabilities = NaiveBayes.get_predictions(summaries, testing_dataset, prior_probability)\n",
    "eval.show_evaluation_measure_values(testing_dataset, predictions)\n",
    "eval.show_all_evaluation_graphics(testing_dataset, probabilities, predictions)"
   ]
  },
  {
   "cell_type": "heading",
   "metadata": {},
   "level": 1,
   "source": [
    ""
   ]
  },
  {
   "cell_type": "code",
   "execution_count": 3,
   "metadata": {},
   "outputs": [
    {
     "name": "stdout",
     "output_type": "stream",
     "text": [
      "Checking whether there is an H2O instance running at http://localhost:54321"
     ]
    },
    {
     "name": "stdout",
     "output_type": "stream",
     "text": [
      "."
     ]
    },
    {
     "name": "stdout",
     "output_type": "stream",
     "text": [
      "."
     ]
    },
    {
     "name": "stdout",
     "output_type": "stream",
     "text": [
      "."
     ]
    },
    {
     "name": "stdout",
     "output_type": "stream",
     "text": [
      "."
     ]
    },
    {
     "name": "stdout",
     "output_type": "stream",
     "text": [
      "."
     ]
    },
    {
     "name": "stdout",
     "output_type": "stream",
     "text": [
      " not found."
     ]
    },
    {
     "name": "stdout",
     "output_type": "stream",
     "text": [
      "\n"
     ]
    },
    {
     "name": "stdout",
     "output_type": "stream",
     "text": [
      "Attempting to start a local H2O server..."
     ]
    },
    {
     "name": "stdout",
     "output_type": "stream",
     "text": [
      "\n"
     ]
    },
    {
     "name": "stdout",
     "output_type": "stream",
     "text": [
      "  Java Version: java version \"1.8.0_40\"; Java(TM) SE Runtime Environment (build 1.8.0_40-b27); Java HotSpot(TM) 64-Bit Server VM (build 25.40-b25, mixed mode)"
     ]
    },
    {
     "name": "stdout",
     "output_type": "stream",
     "text": [
      "\n"
     ]
    },
    {
     "name": "stdout",
     "output_type": "stream",
     "text": [
      "  Starting server from /Library/Frameworks/Python.framework/Versions/3.5/lib/python3.5/site-packages/h2o/backend/bin/h2o.jar"
     ]
    },
    {
     "name": "stdout",
     "output_type": "stream",
     "text": [
      "\n"
     ]
    },
    {
     "name": "stdout",
     "output_type": "stream",
     "text": [
      "  Ice root: /var/folders/z3/xy20bs3n5xz_pnkx07l70k0w0000gn/T/tmpp3h41ksn"
     ]
    },
    {
     "name": "stdout",
     "output_type": "stream",
     "text": [
      "\n"
     ]
    },
    {
     "name": "stdout",
     "output_type": "stream",
     "text": [
      "  JVM stdout: /var/folders/z3/xy20bs3n5xz_pnkx07l70k0w0000gn/T/tmpp3h41ksn/h2o_Alonso_started_from_python.out"
     ]
    },
    {
     "name": "stdout",
     "output_type": "stream",
     "text": [
      "\n"
     ]
    },
    {
     "name": "stdout",
     "output_type": "stream",
     "text": [
      "  JVM stderr: /var/folders/z3/xy20bs3n5xz_pnkx07l70k0w0000gn/T/tmpp3h41ksn/h2o_Alonso_started_from_python.err"
     ]
    },
    {
     "name": "stdout",
     "output_type": "stream",
     "text": [
      "\n"
     ]
    },
    {
     "name": "stdout",
     "output_type": "stream",
     "text": [
      "  Server is running at http://127.0.0.1:54321"
     ]
    },
    {
     "name": "stdout",
     "output_type": "stream",
     "text": [
      "\n"
     ]
    },
    {
     "name": "stdout",
     "output_type": "stream",
     "text": [
      "Connecting to H2O server at http://127.0.0.1:54321.."
     ]
    },
    {
     "name": "stdout",
     "output_type": "stream",
     "text": [
      "."
     ]
    },
    {
     "name": "stdout",
     "output_type": "stream",
     "text": [
      " successful."
     ]
    },
    {
     "name": "stdout",
     "output_type": "stream",
     "text": [
      "\n"
     ]
    },
    {
     "name": "stdout",
     "output_type": "stream",
     "text": [
      "Warning: Your H2O cluster version is too old (3 months and 21 days)! Please download and install the latest version from http://h2o.ai/download/"
     ]
    },
    {
     "name": "stdout",
     "output_type": "stream",
     "text": [
      "\n"
     ]
    },
    {
     "data": {
      "text/html": [
       "<div style=\"overflow:auto\"><table style=\"width:50%\"><tr><td>H2O cluster uptime:</td>\n",
       "<td>03 secs</td></tr>\n",
       "<tr><td>H2O cluster version:</td>\n",
       "<td>3.10.4.8</td></tr>\n",
       "<tr><td>H2O cluster version age:</td>\n",
       "<td>3 months and 21 days !!!</td></tr>\n",
       "<tr><td>H2O cluster name:</td>\n",
       "<td>H2O_from_python_Alonso_gczxqw</td></tr>\n",
       "<tr><td>H2O cluster total nodes:</td>\n",
       "<td>1</td></tr>\n",
       "<tr><td>H2O cluster free memory:</td>\n",
       "<td>1.778 Gb</td></tr>\n",
       "<tr><td>H2O cluster total cores:</td>\n",
       "<td>4</td></tr>\n",
       "<tr><td>H2O cluster allowed cores:</td>\n",
       "<td>4</td></tr>\n",
       "<tr><td>H2O cluster status:</td>\n",
       "<td>accepting new members, healthy</td></tr>\n",
       "<tr><td>H2O connection url:</td>\n",
       "<td>http://127.0.0.1:54321</td></tr>\n",
       "<tr><td>H2O connection proxy:</td>\n",
       "<td>None</td></tr>\n",
       "<tr><td>H2O internal security:</td>\n",
       "<td>False</td></tr>\n",
       "<tr><td>Python version:</td>\n",
       "<td>3.5.0 final</td></tr></table></div>"
      ],
      "text/plain": [
       "<div style=\"overflow:auto\"><table style=\"width:50%\"><tr><td>H2O cluster uptime:</td>\n",
       "<td>03 secs</td></tr>\n",
       "<tr><td>H2O cluster version:</td>\n",
       "<td>3.10.4.8</td></tr>\n",
       "<tr><td>H2O cluster version age:</td>\n",
       "<td>3 months and 21 days !!!</td></tr>\n",
       "<tr><td>H2O cluster name:</td>\n",
       "<td>H2O_from_python_Alonso_gczxqw</td></tr>\n",
       "<tr><td>H2O cluster total nodes:</td>\n",
       "<td>1</td></tr>\n",
       "<tr><td>H2O cluster free memory:</td>\n",
       "<td>1.778 Gb</td></tr>\n",
       "<tr><td>H2O cluster total cores:</td>\n",
       "<td>4</td></tr>\n",
       "<tr><td>H2O cluster allowed cores:</td>\n",
       "<td>4</td></tr>\n",
       "<tr><td>H2O cluster status:</td>\n",
       "<td>accepting new members, healthy</td></tr>\n",
       "<tr><td>H2O connection url:</td>\n",
       "<td>http://127.0.0.1:54321</td></tr>\n",
       "<tr><td>H2O connection proxy:</td>\n",
       "<td>None</td></tr>\n",
       "<tr><td>H2O internal security:</td>\n",
       "<td>False</td></tr>\n",
       "<tr><td>Python version:</td>\n",
       "<td>3.5.0 final</td></tr></table></div>"
      ]
     },
     "execution_count": 0,
     "metadata": {},
     "output_type": "execute_result"
    },
    {
     "name": "stdout",
     "output_type": "stream",
     "text": [
      "Connecting to H2O server at http://localhost:54321.."
     ]
    },
    {
     "name": "stdout",
     "output_type": "stream",
     "text": [
      "."
     ]
    },
    {
     "name": "stdout",
     "output_type": "stream",
     "text": [
      " successful."
     ]
    },
    {
     "name": "stdout",
     "output_type": "stream",
     "text": [
      "\n"
     ]
    },
    {
     "data": {
      "text/html": [
       "<div style=\"overflow:auto\"><table style=\"width:50%\"><tr><td>H2O cluster uptime:</td>\n",
       "<td>04 secs</td></tr>\n",
       "<tr><td>H2O cluster version:</td>\n",
       "<td>3.10.4.8</td></tr>\n",
       "<tr><td>H2O cluster version age:</td>\n",
       "<td>3 months and 21 days !!!</td></tr>\n",
       "<tr><td>H2O cluster name:</td>\n",
       "<td>H2O_from_python_Alonso_gczxqw</td></tr>\n",
       "<tr><td>H2O cluster total nodes:</td>\n",
       "<td>1</td></tr>\n",
       "<tr><td>H2O cluster free memory:</td>\n",
       "<td>1.778 Gb</td></tr>\n",
       "<tr><td>H2O cluster total cores:</td>\n",
       "<td>4</td></tr>\n",
       "<tr><td>H2O cluster allowed cores:</td>\n",
       "<td>4</td></tr>\n",
       "<tr><td>H2O cluster status:</td>\n",
       "<td>locked, healthy</td></tr>\n",
       "<tr><td>H2O connection url:</td>\n",
       "<td>http://localhost:54321</td></tr>\n",
       "<tr><td>H2O connection proxy:</td>\n",
       "<td>None</td></tr>\n",
       "<tr><td>H2O internal security:</td>\n",
       "<td>False</td></tr>\n",
       "<tr><td>Python version:</td>\n",
       "<td>3.5.0 final</td></tr></table></div>"
      ],
      "text/plain": [
       "<div style=\"overflow:auto\"><table style=\"width:50%\"><tr><td>H2O cluster uptime:</td>\n",
       "<td>04 secs</td></tr>\n",
       "<tr><td>H2O cluster version:</td>\n",
       "<td>3.10.4.8</td></tr>\n",
       "<tr><td>H2O cluster version age:</td>\n",
       "<td>3 months and 21 days !!!</td></tr>\n",
       "<tr><td>H2O cluster name:</td>\n",
       "<td>H2O_from_python_Alonso_gczxqw</td></tr>\n",
       "<tr><td>H2O cluster total nodes:</td>\n",
       "<td>1</td></tr>\n",
       "<tr><td>H2O cluster free memory:</td>\n",
       "<td>1.778 Gb</td></tr>\n",
       "<tr><td>H2O cluster total cores:</td>\n",
       "<td>4</td></tr>\n",
       "<tr><td>H2O cluster allowed cores:</td>\n",
       "<td>4</td></tr>\n",
       "<tr><td>H2O cluster status:</td>\n",
       "<td>locked, healthy</td></tr>\n",
       "<tr><td>H2O connection url:</td>\n",
       "<td>http://localhost:54321</td></tr>\n",
       "<tr><td>H2O connection proxy:</td>\n",
       "<td>None</td></tr>\n",
       "<tr><td>H2O internal security:</td>\n",
       "<td>False</td></tr>\n",
       "<tr><td>Python version:</td>\n",
       "<td>3.5.0 final</td></tr></table></div>"
      ]
     },
     "execution_count": 0,
     "metadata": {},
     "output_type": "execute_result"
    },
    {
     "name": "stdout",
     "output_type": "stream",
     "text": [
      "Parse progress: |"
     ]
    },
    {
     "name": "stdout",
     "output_type": "stream",
     "text": [
      "█"
     ]
    },
    {
     "name": "stdout",
     "output_type": "stream",
     "text": [
      "█"
     ]
    },
    {
     "name": "stdout",
     "output_type": "stream",
     "text": [
      "█"
     ]
    },
    {
     "name": "stdout",
     "output_type": "stream",
     "text": [
      "█"
     ]
    },
    {
     "name": "stdout",
     "output_type": "stream",
     "text": [
      "█"
     ]
    },
    {
     "name": "stdout",
     "output_type": "stream",
     "text": [
      "█"
     ]
    },
    {
     "name": "stdout",
     "output_type": "stream",
     "text": [
      "█"
     ]
    },
    {
     "name": "stdout",
     "output_type": "stream",
     "text": [
      "█"
     ]
    },
    {
     "name": "stdout",
     "output_type": "stream",
     "text": [
      "█"
     ]
    },
    {
     "name": "stdout",
     "output_type": "stream",
     "text": [
      "█"
     ]
    },
    {
     "name": "stdout",
     "output_type": "stream",
     "text": [
      "█"
     ]
    },
    {
     "name": "stdout",
     "output_type": "stream",
     "text": [
      "█"
     ]
    },
    {
     "name": "stdout",
     "output_type": "stream",
     "text": [
      "█"
     ]
    },
    {
     "name": "stdout",
     "output_type": "stream",
     "text": [
      "█"
     ]
    },
    {
     "name": "stdout",
     "output_type": "stream",
     "text": [
      "█"
     ]
    },
    {
     "name": "stdout",
     "output_type": "stream",
     "text": [
      "█"
     ]
    },
    {
     "name": "stdout",
     "output_type": "stream",
     "text": [
      "█"
     ]
    },
    {
     "name": "stdout",
     "output_type": "stream",
     "text": [
      "█"
     ]
    },
    {
     "name": "stdout",
     "output_type": "stream",
     "text": [
      "█"
     ]
    },
    {
     "name": "stdout",
     "output_type": "stream",
     "text": [
      "█"
     ]
    },
    {
     "name": "stdout",
     "output_type": "stream",
     "text": [
      "█████████████████████████████████████| 100%"
     ]
    },
    {
     "name": "stdout",
     "output_type": "stream",
     "text": [
      "\n"
     ]
    },
    {
     "name": "stdout",
     "output_type": "stream",
     "text": [
      "Parse progress: |"
     ]
    },
    {
     "name": "stdout",
     "output_type": "stream",
     "text": [
      "█"
     ]
    },
    {
     "name": "stdout",
     "output_type": "stream",
     "text": [
      "█"
     ]
    },
    {
     "name": "stdout",
     "output_type": "stream",
     "text": [
      "█"
     ]
    },
    {
     "name": "stdout",
     "output_type": "stream",
     "text": [
      "█"
     ]
    },
    {
     "name": "stdout",
     "output_type": "stream",
     "text": [
      "█"
     ]
    },
    {
     "name": "stdout",
     "output_type": "stream",
     "text": [
      "█"
     ]
    },
    {
     "name": "stdout",
     "output_type": "stream",
     "text": [
      "█"
     ]
    },
    {
     "name": "stdout",
     "output_type": "stream",
     "text": [
      "█"
     ]
    },
    {
     "name": "stdout",
     "output_type": "stream",
     "text": [
      "█"
     ]
    },
    {
     "name": "stdout",
     "output_type": "stream",
     "text": [
      "█"
     ]
    },
    {
     "name": "stdout",
     "output_type": "stream",
     "text": [
      "█"
     ]
    },
    {
     "name": "stdout",
     "output_type": "stream",
     "text": [
      "█"
     ]
    },
    {
     "name": "stdout",
     "output_type": "stream",
     "text": [
      "█"
     ]
    },
    {
     "name": "stdout",
     "output_type": "stream",
     "text": [
      "█"
     ]
    },
    {
     "name": "stdout",
     "output_type": "stream",
     "text": [
      "█"
     ]
    },
    {
     "name": "stdout",
     "output_type": "stream",
     "text": [
      "█"
     ]
    },
    {
     "name": "stdout",
     "output_type": "stream",
     "text": [
      "█"
     ]
    },
    {
     "name": "stdout",
     "output_type": "stream",
     "text": [
      "█"
     ]
    },
    {
     "name": "stdout",
     "output_type": "stream",
     "text": [
      "█"
     ]
    },
    {
     "name": "stdout",
     "output_type": "stream",
     "text": [
      "█"
     ]
    },
    {
     "name": "stdout",
     "output_type": "stream",
     "text": [
      "█"
     ]
    },
    {
     "name": "stdout",
     "output_type": "stream",
     "text": [
      "█"
     ]
    },
    {
     "name": "stdout",
     "output_type": "stream",
     "text": [
      "███████████████████████████████████| 100%"
     ]
    },
    {
     "name": "stdout",
     "output_type": "stream",
     "text": [
      "\n"
     ]
    },
    {
     "name": "stdout",
     "output_type": "stream",
     "text": [
      "drf Model Build progress: |"
     ]
    },
    {
     "name": "stdout",
     "output_type": "stream",
     "text": [
      "█"
     ]
    },
    {
     "name": "stdout",
     "output_type": "stream",
     "text": [
      "█"
     ]
    },
    {
     "name": "stdout",
     "output_type": "stream",
     "text": [
      "█"
     ]
    },
    {
     "name": "stdout",
     "output_type": "stream",
     "text": [
      "█"
     ]
    },
    {
     "name": "stdout",
     "output_type": "stream",
     "text": [
      "█"
     ]
    },
    {
     "name": "stdout",
     "output_type": "stream",
     "text": [
      "█"
     ]
    },
    {
     "name": "stdout",
     "output_type": "stream",
     "text": [
      "█"
     ]
    },
    {
     "name": "stdout",
     "output_type": "stream",
     "text": [
      "█"
     ]
    },
    {
     "name": "stdout",
     "output_type": "stream",
     "text": [
      "█"
     ]
    },
    {
     "name": "stdout",
     "output_type": "stream",
     "text": [
      "█"
     ]
    },
    {
     "name": "stdout",
     "output_type": "stream",
     "text": [
      "█"
     ]
    },
    {
     "name": "stdout",
     "output_type": "stream",
     "text": [
      "█"
     ]
    },
    {
     "name": "stdout",
     "output_type": "stream",
     "text": [
      "█"
     ]
    },
    {
     "name": "stdout",
     "output_type": "stream",
     "text": [
      "█"
     ]
    },
    {
     "name": "stdout",
     "output_type": "stream",
     "text": [
      "█"
     ]
    },
    {
     "name": "stdout",
     "output_type": "stream",
     "text": [
      "█"
     ]
    },
    {
     "name": "stdout",
     "output_type": "stream",
     "text": [
      "█"
     ]
    },
    {
     "name": "stdout",
     "output_type": "stream",
     "text": [
      "█"
     ]
    },
    {
     "name": "stdout",
     "output_type": "stream",
     "text": [
      "█"
     ]
    },
    {
     "name": "stdout",
     "output_type": "stream",
     "text": [
      "█"
     ]
    },
    {
     "name": "stdout",
     "output_type": "stream",
     "text": [
      "█"
     ]
    },
    {
     "name": "stdout",
     "output_type": "stream",
     "text": [
      "█"
     ]
    },
    {
     "name": "stdout",
     "output_type": "stream",
     "text": [
      "█"
     ]
    },
    {
     "name": "stdout",
     "output_type": "stream",
     "text": [
      "█"
     ]
    },
    {
     "name": "stdout",
     "output_type": "stream",
     "text": [
      "█"
     ]
    },
    {
     "name": "stdout",
     "output_type": "stream",
     "text": [
      "█"
     ]
    },
    {
     "name": "stdout",
     "output_type": "stream",
     "text": [
      "█"
     ]
    },
    {
     "name": "stdout",
     "output_type": "stream",
     "text": [
      "█"
     ]
    },
    {
     "name": "stdout",
     "output_type": "stream",
     "text": [
      "█"
     ]
    },
    {
     "name": "stdout",
     "output_type": "stream",
     "text": [
      "█"
     ]
    },
    {
     "name": "stdout",
     "output_type": "stream",
     "text": [
      "█"
     ]
    },
    {
     "name": "stdout",
     "output_type": "stream",
     "text": [
      "█"
     ]
    },
    {
     "name": "stdout",
     "output_type": "stream",
     "text": [
      "█"
     ]
    },
    {
     "name": "stdout",
     "output_type": "stream",
     "text": [
      "█"
     ]
    },
    {
     "name": "stdout",
     "output_type": "stream",
     "text": [
      "█"
     ]
    },
    {
     "name": "stdout",
     "output_type": "stream",
     "text": [
      "█"
     ]
    },
    {
     "name": "stdout",
     "output_type": "stream",
     "text": [
      "█"
     ]
    },
    {
     "name": "stdout",
     "output_type": "stream",
     "text": [
      "█"
     ]
    },
    {
     "name": "stdout",
     "output_type": "stream",
     "text": [
      "█"
     ]
    },
    {
     "name": "stdout",
     "output_type": "stream",
     "text": [
      "█"
     ]
    },
    {
     "name": "stdout",
     "output_type": "stream",
     "text": [
      "█"
     ]
    },
    {
     "name": "stdout",
     "output_type": "stream",
     "text": [
      "█"
     ]
    },
    {
     "name": "stdout",
     "output_type": "stream",
     "text": [
      "█"
     ]
    },
    {
     "name": "stdout",
     "output_type": "stream",
     "text": [
      "█"
     ]
    },
    {
     "name": "stdout",
     "output_type": "stream",
     "text": [
      "█"
     ]
    },
    {
     "name": "stdout",
     "output_type": "stream",
     "text": [
      "█"
     ]
    },
    {
     "name": "stdout",
     "output_type": "stream",
     "text": [
      "█"
     ]
    },
    {
     "name": "stdout",
     "output_type": "stream",
     "text": [
      "| 100%"
     ]
    },
    {
     "name": "stdout",
     "output_type": "stream",
     "text": [
      "\n"
     ]
    },
    {
     "name": "stdout",
     "output_type": "stream",
     "text": [
      "drf prediction progress: |"
     ]
    },
    {
     "name": "stdout",
     "output_type": "stream",
     "text": [
      "█"
     ]
    },
    {
     "name": "stdout",
     "output_type": "stream",
     "text": [
      "█"
     ]
    },
    {
     "name": "stdout",
     "output_type": "stream",
     "text": [
      "█"
     ]
    },
    {
     "name": "stdout",
     "output_type": "stream",
     "text": [
      "█"
     ]
    },
    {
     "name": "stdout",
     "output_type": "stream",
     "text": [
      "█"
     ]
    },
    {
     "name": "stdout",
     "output_type": "stream",
     "text": [
      "█"
     ]
    },
    {
     "name": "stdout",
     "output_type": "stream",
     "text": [
      "█"
     ]
    },
    {
     "name": "stdout",
     "output_type": "stream",
     "text": [
      "█"
     ]
    },
    {
     "name": "stdout",
     "output_type": "stream",
     "text": [
      "█"
     ]
    },
    {
     "name": "stdout",
     "output_type": "stream",
     "text": [
      "█"
     ]
    },
    {
     "name": "stdout",
     "output_type": "stream",
     "text": [
      "█"
     ]
    },
    {
     "name": "stdout",
     "output_type": "stream",
     "text": [
      "█"
     ]
    },
    {
     "name": "stdout",
     "output_type": "stream",
     "text": [
      "█"
     ]
    },
    {
     "name": "stdout",
     "output_type": "stream",
     "text": [
      "█"
     ]
    },
    {
     "name": "stdout",
     "output_type": "stream",
     "text": [
      "█"
     ]
    },
    {
     "name": "stdout",
     "output_type": "stream",
     "text": [
      "█"
     ]
    },
    {
     "name": "stdout",
     "output_type": "stream",
     "text": [
      "█"
     ]
    },
    {
     "name": "stdout",
     "output_type": "stream",
     "text": [
      "█"
     ]
    },
    {
     "name": "stdout",
     "output_type": "stream",
     "text": [
      "█"
     ]
    },
    {
     "name": "stdout",
     "output_type": "stream",
     "text": [
      "█"
     ]
    },
    {
     "name": "stdout",
     "output_type": "stream",
     "text": [
      "█"
     ]
    },
    {
     "name": "stdout",
     "output_type": "stream",
     "text": [
      "█"
     ]
    },
    {
     "name": "stdout",
     "output_type": "stream",
     "text": [
      "█"
     ]
    },
    {
     "name": "stdout",
     "output_type": "stream",
     "text": [
      "█"
     ]
    },
    {
     "name": "stdout",
     "output_type": "stream",
     "text": [
      "█"
     ]
    },
    {
     "name": "stdout",
     "output_type": "stream",
     "text": [
      "█"
     ]
    },
    {
     "name": "stdout",
     "output_type": "stream",
     "text": [
      "█"
     ]
    },
    {
     "name": "stdout",
     "output_type": "stream",
     "text": [
      "█"
     ]
    },
    {
     "name": "stdout",
     "output_type": "stream",
     "text": [
      "█"
     ]
    },
    {
     "name": "stdout",
     "output_type": "stream",
     "text": [
      "█"
     ]
    },
    {
     "name": "stdout",
     "output_type": "stream",
     "text": [
      "█"
     ]
    },
    {
     "name": "stdout",
     "output_type": "stream",
     "text": [
      "█"
     ]
    },
    {
     "name": "stdout",
     "output_type": "stream",
     "text": [
      "█"
     ]
    },
    {
     "name": "stdout",
     "output_type": "stream",
     "text": [
      "█"
     ]
    },
    {
     "name": "stdout",
     "output_type": "stream",
     "text": [
      "█"
     ]
    },
    {
     "name": "stdout",
     "output_type": "stream",
     "text": [
      "█"
     ]
    },
    {
     "name": "stdout",
     "output_type": "stream",
     "text": [
      "█"
     ]
    },
    {
     "name": "stdout",
     "output_type": "stream",
     "text": [
      "█"
     ]
    },
    {
     "name": "stdout",
     "output_type": "stream",
     "text": [
      "█"
     ]
    },
    {
     "name": "stdout",
     "output_type": "stream",
     "text": [
      "█"
     ]
    },
    {
     "name": "stdout",
     "output_type": "stream",
     "text": [
      "█"
     ]
    },
    {
     "name": "stdout",
     "output_type": "stream",
     "text": [
      "█"
     ]
    },
    {
     "name": "stdout",
     "output_type": "stream",
     "text": [
      "█"
     ]
    },
    {
     "name": "stdout",
     "output_type": "stream",
     "text": [
      "█"
     ]
    },
    {
     "name": "stdout",
     "output_type": "stream",
     "text": [
      "█"
     ]
    },
    {
     "name": "stdout",
     "output_type": "stream",
     "text": [
      "███| 100%"
     ]
    },
    {
     "name": "stdout",
     "output_type": "stream",
     "text": [
      "\n"
     ]
    },
    {
     "name": "stdout",
     "output_type": "stream",
     "text": [
      "Model Details"
     ]
    },
    {
     "name": "stdout",
     "output_type": "stream",
     "text": [
      "\n"
     ]
    },
    {
     "name": "stdout",
     "output_type": "stream",
     "text": [
      "============="
     ]
    },
    {
     "name": "stdout",
     "output_type": "stream",
     "text": [
      "\n"
     ]
    },
    {
     "name": "stdout",
     "output_type": "stream",
     "text": [
      "H2ORandomForestEstimator"
     ]
    },
    {
     "name": "stdout",
     "output_type": "stream",
     "text": [
      " "
     ]
    },
    {
     "name": "stdout",
     "output_type": "stream",
     "text": [
      ": "
     ]
    },
    {
     "name": "stdout",
     "output_type": "stream",
     "text": [
      " "
     ]
    },
    {
     "name": "stdout",
     "output_type": "stream",
     "text": [
      "Distributed Random Forest"
     ]
    },
    {
     "name": "stdout",
     "output_type": "stream",
     "text": [
      "\n"
     ]
    },
    {
     "name": "stdout",
     "output_type": "stream",
     "text": [
      "Model Key: "
     ]
    },
    {
     "name": "stdout",
     "output_type": "stream",
     "text": [
      " "
     ]
    },
    {
     "name": "stdout",
     "output_type": "stream",
     "text": [
      "DRF_model_python_1505171807268_1"
     ]
    },
    {
     "name": "stdout",
     "output_type": "stream",
     "text": [
      "\n"
     ]
    },
    {
     "name": "stdout",
     "output_type": "stream",
     "text": [
      "\n"
     ]
    },
    {
     "name": "stdout",
     "output_type": "stream",
     "text": [
      "\n"
     ]
    },
    {
     "name": "stdout",
     "output_type": "stream",
     "text": [
      "ModelMetricsRegression: drf"
     ]
    },
    {
     "name": "stdout",
     "output_type": "stream",
     "text": [
      "\n"
     ]
    },
    {
     "name": "stdout",
     "output_type": "stream",
     "text": [
      "** Reported on train data. **"
     ]
    },
    {
     "name": "stdout",
     "output_type": "stream",
     "text": [
      "\n"
     ]
    },
    {
     "name": "stdout",
     "output_type": "stream",
     "text": [
      "\n"
     ]
    },
    {
     "name": "stdout",
     "output_type": "stream",
     "text": [
      "MSE: 0.13057115992746574"
     ]
    },
    {
     "name": "stdout",
     "output_type": "stream",
     "text": [
      "\n"
     ]
    },
    {
     "name": "stdout",
     "output_type": "stream",
     "text": [
      "RMSE: 0.3613463157795659"
     ]
    },
    {
     "name": "stdout",
     "output_type": "stream",
     "text": [
      "\n"
     ]
    },
    {
     "name": "stdout",
     "output_type": "stream",
     "text": [
      "MAE: 0.25617537476122676"
     ]
    },
    {
     "name": "stdout",
     "output_type": "stream",
     "text": [
      "\n"
     ]
    },
    {
     "name": "stdout",
     "output_type": "stream",
     "text": [
      "RMSLE: 0.2539607380140555"
     ]
    },
    {
     "name": "stdout",
     "output_type": "stream",
     "text": [
      "\n"
     ]
    },
    {
     "name": "stdout",
     "output_type": "stream",
     "text": [
      "Mean Residual Deviance: 0.13057115992746574"
     ]
    },
    {
     "name": "stdout",
     "output_type": "stream",
     "text": [
      "\n"
     ]
    },
    {
     "name": "stdout",
     "output_type": "stream",
     "text": [
      "\n"
     ]
    },
    {
     "name": "stdout",
     "output_type": "stream",
     "text": [
      "ModelMetricsRegression: drf"
     ]
    },
    {
     "name": "stdout",
     "output_type": "stream",
     "text": [
      "\n"
     ]
    },
    {
     "name": "stdout",
     "output_type": "stream",
     "text": [
      "** Reported on validation data. **"
     ]
    },
    {
     "name": "stdout",
     "output_type": "stream",
     "text": [
      "\n"
     ]
    },
    {
     "name": "stdout",
     "output_type": "stream",
     "text": [
      "\n"
     ]
    },
    {
     "name": "stdout",
     "output_type": "stream",
     "text": [
      "MSE: 0.1355301437080424"
     ]
    },
    {
     "name": "stdout",
     "output_type": "stream",
     "text": [
      "\n"
     ]
    },
    {
     "name": "stdout",
     "output_type": "stream",
     "text": [
      "RMSE: 0.36814418874680394"
     ]
    },
    {
     "name": "stdout",
     "output_type": "stream",
     "text": [
      "\n"
     ]
    },
    {
     "name": "stdout",
     "output_type": "stream",
     "text": [
      "MAE: 0.27141333370318216"
     ]
    },
    {
     "name": "stdout",
     "output_type": "stream",
     "text": [
      "\n"
     ]
    },
    {
     "name": "stdout",
     "output_type": "stream",
     "text": [
      "RMSLE: 0.2585110008966191"
     ]
    },
    {
     "name": "stdout",
     "output_type": "stream",
     "text": [
      "\n"
     ]
    },
    {
     "name": "stdout",
     "output_type": "stream",
     "text": [
      "Mean Residual Deviance: 0.1355301437080424"
     ]
    },
    {
     "name": "stdout",
     "output_type": "stream",
     "text": [
      "\n"
     ]
    },
    {
     "name": "stdout",
     "output_type": "stream",
     "text": [
      "\n"
     ]
    },
    {
     "name": "stdout",
     "output_type": "stream",
     "text": [
      "ModelMetricsRegression: drf"
     ]
    },
    {
     "name": "stdout",
     "output_type": "stream",
     "text": [
      "\n"
     ]
    },
    {
     "name": "stdout",
     "output_type": "stream",
     "text": [
      "** Reported on cross-validation data. **"
     ]
    },
    {
     "name": "stdout",
     "output_type": "stream",
     "text": [
      "\n"
     ]
    },
    {
     "name": "stdout",
     "output_type": "stream",
     "text": [
      "\n"
     ]
    },
    {
     "name": "stdout",
     "output_type": "stream",
     "text": [
      "MSE: 0.12997022964038416"
     ]
    },
    {
     "name": "stdout",
     "output_type": "stream",
     "text": [
      "\n"
     ]
    },
    {
     "name": "stdout",
     "output_type": "stream",
     "text": [
      "RMSE: 0.3605138411217857"
     ]
    },
    {
     "name": "stdout",
     "output_type": "stream",
     "text": [
      "\n"
     ]
    },
    {
     "name": "stdout",
     "output_type": "stream",
     "text": [
      "MAE: 0.25841099791800787"
     ]
    },
    {
     "name": "stdout",
     "output_type": "stream",
     "text": [
      "\n"
     ]
    },
    {
     "name": "stdout",
     "output_type": "stream",
     "text": [
      "RMSLE: 0.2532267278664796"
     ]
    },
    {
     "name": "stdout",
     "output_type": "stream",
     "text": [
      "\n"
     ]
    },
    {
     "name": "stdout",
     "output_type": "stream",
     "text": [
      "Mean Residual Deviance: 0.12997022964038416"
     ]
    },
    {
     "name": "stdout",
     "output_type": "stream",
     "text": [
      "\n"
     ]
    },
    {
     "name": "stdout",
     "output_type": "stream",
     "text": [
      "Cross-Validation Metrics Summary:"
     ]
    },
    {
     "name": "stdout",
     "output_type": "stream",
     "text": [
      " "
     ]
    },
    {
     "name": "stdout",
     "output_type": "stream",
     "text": [
      "\n"
     ]
    },
    {
     "data": {
      "text/html": [
       "<div style=\"overflow:auto\"><table style=\"width:50%\"><tr><td><b></b></td>\n",
       "<td><b>mean</b></td>\n",
       "<td><b>sd</b></td>\n",
       "<td><b>cv_1_valid</b></td>\n",
       "<td><b>cv_2_valid</b></td>\n",
       "<td><b>cv_3_valid</b></td></tr>\n",
       "<tr><td>mae</td>\n",
       "<td>0.2584116</td>\n",
       "<td>0.0002039</td>\n",
       "<td>0.2584051</td>\n",
       "<td>0.2587680</td>\n",
       "<td>0.2580617</td></tr>\n",
       "<tr><td>mse</td>\n",
       "<td>0.1299709</td>\n",
       "<td>0.0002919</td>\n",
       "<td>0.1296769</td>\n",
       "<td>0.1305547</td>\n",
       "<td>0.1296810</td></tr>\n",
       "<tr><td>r2</td>\n",
       "<td>0.2575049</td>\n",
       "<td>0.0019153</td>\n",
       "<td>0.2580980</td>\n",
       "<td>0.2539310</td>\n",
       "<td>0.2604857</td></tr>\n",
       "<tr><td>residual_deviance</td>\n",
       "<td>0.1299709</td>\n",
       "<td>0.0002919</td>\n",
       "<td>0.1296769</td>\n",
       "<td>0.1305547</td>\n",
       "<td>0.1296810</td></tr>\n",
       "<tr><td>rmse</td>\n",
       "<td>0.3605143</td>\n",
       "<td>0.0004046</td>\n",
       "<td>0.3601068</td>\n",
       "<td>0.3613236</td>\n",
       "<td>0.3601125</td></tr>\n",
       "<tr><td>rmsle</td>\n",
       "<td>0.2532272</td>\n",
       "<td>0.0003311</td>\n",
       "<td>0.2530663</td>\n",
       "<td>0.2538640</td>\n",
       "<td>0.2527513</td></tr></table></div>"
      ],
      "text/plain": [
       "<div style=\"overflow:auto\"><table style=\"width:50%\"><tr><td><b></b></td>\n",
       "<td><b>mean</b></td>\n",
       "<td><b>sd</b></td>\n",
       "<td><b>cv_1_valid</b></td>\n",
       "<td><b>cv_2_valid</b></td>\n",
       "<td><b>cv_3_valid</b></td></tr>\n",
       "<tr><td>mae</td>\n",
       "<td>0.2584116</td>\n",
       "<td>0.0002039</td>\n",
       "<td>0.2584051</td>\n",
       "<td>0.2587680</td>\n",
       "<td>0.2580617</td></tr>\n",
       "<tr><td>mse</td>\n",
       "<td>0.1299709</td>\n",
       "<td>0.0002919</td>\n",
       "<td>0.1296769</td>\n",
       "<td>0.1305547</td>\n",
       "<td>0.1296810</td></tr>\n",
       "<tr><td>r2</td>\n",
       "<td>0.2575049</td>\n",
       "<td>0.0019153</td>\n",
       "<td>0.2580980</td>\n",
       "<td>0.2539310</td>\n",
       "<td>0.2604857</td></tr>\n",
       "<tr><td>residual_deviance</td>\n",
       "<td>0.1299709</td>\n",
       "<td>0.0002919</td>\n",
       "<td>0.1296769</td>\n",
       "<td>0.1305547</td>\n",
       "<td>0.1296810</td></tr>\n",
       "<tr><td>rmse</td>\n",
       "<td>0.3605143</td>\n",
       "<td>0.0004046</td>\n",
       "<td>0.3601068</td>\n",
       "<td>0.3613236</td>\n",
       "<td>0.3601125</td></tr>\n",
       "<tr><td>rmsle</td>\n",
       "<td>0.2532272</td>\n",
       "<td>0.0003311</td>\n",
       "<td>0.2530663</td>\n",
       "<td>0.2538640</td>\n",
       "<td>0.2527513</td></tr></table></div>"
      ]
     },
     "execution_count": 0,
     "metadata": {},
     "output_type": "execute_result"
    },
    {
     "name": "stdout",
     "output_type": "stream",
     "text": [
      "Scoring History:"
     ]
    },
    {
     "name": "stdout",
     "output_type": "stream",
     "text": [
      " "
     ]
    },
    {
     "name": "stdout",
     "output_type": "stream",
     "text": [
      "\n"
     ]
    },
    {
     "data": {
      "text/html": [
       "<div style=\"overflow:auto\"><table style=\"width:50%\"><tr><td><b></b></td>\n",
       "<td><b>timestamp</b></td>\n",
       "<td><b>duration</b></td>\n",
       "<td><b>number_of_trees</b></td>\n",
       "<td><b>training_rmse</b></td>\n",
       "<td><b>training_mae</b></td>\n",
       "<td><b>training_deviance</b></td>\n",
       "<td><b>validation_rmse</b></td>\n",
       "<td><b>validation_mae</b></td>\n",
       "<td><b>validation_deviance</b></td></tr>\n",
       "<tr><td></td>\n",
       "<td>2017-09-11 18:32:24</td>\n",
       "<td>14 min 50.780 sec</td>\n",
       "<td>0.0</td>\n",
       "<td>nan</td>\n",
       "<td>nan</td>\n",
       "<td>nan</td>\n",
       "<td>nan</td>\n",
       "<td>nan</td>\n",
       "<td>nan</td></tr>\n",
       "<tr><td></td>\n",
       "<td>2017-09-11 18:32:26</td>\n",
       "<td>14 min 52.819 sec</td>\n",
       "<td>1.0</td>\n",
       "<td>0.4330938</td>\n",
       "<td>0.2566082</td>\n",
       "<td>0.1875703</td>\n",
       "<td>0.4510347</td>\n",
       "<td>0.2697821</td>\n",
       "<td>0.2034323</td></tr>\n",
       "<tr><td></td>\n",
       "<td>2017-09-11 18:32:28</td>\n",
       "<td>14 min 54.797 sec</td>\n",
       "<td>2.0</td>\n",
       "<td>0.4247209</td>\n",
       "<td>0.2567566</td>\n",
       "<td>0.1803878</td>\n",
       "<td>0.4114826</td>\n",
       "<td>0.2712690</td>\n",
       "<td>0.1693180</td></tr>\n",
       "<tr><td></td>\n",
       "<td>2017-09-11 18:32:34</td>\n",
       "<td>15 min  0.529 sec</td>\n",
       "<td>5.0</td>\n",
       "<td>0.4055950</td>\n",
       "<td>0.2566247</td>\n",
       "<td>0.1645073</td>\n",
       "<td>0.3854118</td>\n",
       "<td>0.2715819</td>\n",
       "<td>0.1485422</td></tr>\n",
       "<tr><td></td>\n",
       "<td>2017-09-11 18:32:44</td>\n",
       "<td>15 min 10.803 sec</td>\n",
       "<td>11.0</td>\n",
       "<td>0.3820324</td>\n",
       "<td>0.2566121</td>\n",
       "<td>0.1459488</td>\n",
       "<td>0.3748761</td>\n",
       "<td>0.2713144</td>\n",
       "<td>0.1405321</td></tr>\n",
       "<tr><td></td>\n",
       "<td>2017-09-11 18:33:06</td>\n",
       "<td>15 min 32.904 sec</td>\n",
       "<td>23.0</td>\n",
       "<td>0.3677333</td>\n",
       "<td>0.2564024</td>\n",
       "<td>0.1352278</td>\n",
       "<td>0.3704356</td>\n",
       "<td>0.2714439</td>\n",
       "<td>0.1372225</td></tr>\n",
       "<tr><td></td>\n",
       "<td>2017-09-11 18:33:51</td>\n",
       "<td>16 min 17.969 sec</td>\n",
       "<td>48.0</td>\n",
       "<td>0.3616302</td>\n",
       "<td>0.2562613</td>\n",
       "<td>0.1307764</td>\n",
       "<td>0.3682442</td>\n",
       "<td>0.2713982</td>\n",
       "<td>0.1356038</td></tr>\n",
       "<tr><td></td>\n",
       "<td>2017-09-11 18:34:03</td>\n",
       "<td>16 min 30.471 sec</td>\n",
       "<td>50.0</td>\n",
       "<td>0.3613463</td>\n",
       "<td>0.2561754</td>\n",
       "<td>0.1305712</td>\n",
       "<td>0.3681442</td>\n",
       "<td>0.2714133</td>\n",
       "<td>0.1355301</td></tr></table></div>"
      ],
      "text/plain": [
       "<div style=\"overflow:auto\"><table style=\"width:50%\"><tr><td><b></b></td>\n",
       "<td><b>timestamp</b></td>\n",
       "<td><b>duration</b></td>\n",
       "<td><b>number_of_trees</b></td>\n",
       "<td><b>training_rmse</b></td>\n",
       "<td><b>training_mae</b></td>\n",
       "<td><b>training_deviance</b></td>\n",
       "<td><b>validation_rmse</b></td>\n",
       "<td><b>validation_mae</b></td>\n",
       "<td><b>validation_deviance</b></td></tr>\n",
       "<tr><td></td>\n",
       "<td>2017-09-11 18:32:24</td>\n",
       "<td>14 min 50.780 sec</td>\n",
       "<td>0.0</td>\n",
       "<td>nan</td>\n",
       "<td>nan</td>\n",
       "<td>nan</td>\n",
       "<td>nan</td>\n",
       "<td>nan</td>\n",
       "<td>nan</td></tr>\n",
       "<tr><td></td>\n",
       "<td>2017-09-11 18:32:26</td>\n",
       "<td>14 min 52.819 sec</td>\n",
       "<td>1.0</td>\n",
       "<td>0.4330938</td>\n",
       "<td>0.2566082</td>\n",
       "<td>0.1875703</td>\n",
       "<td>0.4510347</td>\n",
       "<td>0.2697821</td>\n",
       "<td>0.2034323</td></tr>\n",
       "<tr><td></td>\n",
       "<td>2017-09-11 18:32:28</td>\n",
       "<td>14 min 54.797 sec</td>\n",
       "<td>2.0</td>\n",
       "<td>0.4247209</td>\n",
       "<td>0.2567566</td>\n",
       "<td>0.1803878</td>\n",
       "<td>0.4114826</td>\n",
       "<td>0.2712690</td>\n",
       "<td>0.1693180</td></tr>\n",
       "<tr><td></td>\n",
       "<td>2017-09-11 18:32:34</td>\n",
       "<td>15 min  0.529 sec</td>\n",
       "<td>5.0</td>\n",
       "<td>0.4055950</td>\n",
       "<td>0.2566247</td>\n",
       "<td>0.1645073</td>\n",
       "<td>0.3854118</td>\n",
       "<td>0.2715819</td>\n",
       "<td>0.1485422</td></tr>\n",
       "<tr><td></td>\n",
       "<td>2017-09-11 18:32:44</td>\n",
       "<td>15 min 10.803 sec</td>\n",
       "<td>11.0</td>\n",
       "<td>0.3820324</td>\n",
       "<td>0.2566121</td>\n",
       "<td>0.1459488</td>\n",
       "<td>0.3748761</td>\n",
       "<td>0.2713144</td>\n",
       "<td>0.1405321</td></tr>\n",
       "<tr><td></td>\n",
       "<td>2017-09-11 18:33:06</td>\n",
       "<td>15 min 32.904 sec</td>\n",
       "<td>23.0</td>\n",
       "<td>0.3677333</td>\n",
       "<td>0.2564024</td>\n",
       "<td>0.1352278</td>\n",
       "<td>0.3704356</td>\n",
       "<td>0.2714439</td>\n",
       "<td>0.1372225</td></tr>\n",
       "<tr><td></td>\n",
       "<td>2017-09-11 18:33:51</td>\n",
       "<td>16 min 17.969 sec</td>\n",
       "<td>48.0</td>\n",
       "<td>0.3616302</td>\n",
       "<td>0.2562613</td>\n",
       "<td>0.1307764</td>\n",
       "<td>0.3682442</td>\n",
       "<td>0.2713982</td>\n",
       "<td>0.1356038</td></tr>\n",
       "<tr><td></td>\n",
       "<td>2017-09-11 18:34:03</td>\n",
       "<td>16 min 30.471 sec</td>\n",
       "<td>50.0</td>\n",
       "<td>0.3613463</td>\n",
       "<td>0.2561754</td>\n",
       "<td>0.1305712</td>\n",
       "<td>0.3681442</td>\n",
       "<td>0.2714133</td>\n",
       "<td>0.1355301</td></tr></table></div>"
      ]
     },
     "execution_count": 0,
     "metadata": {},
     "output_type": "execute_result"
    },
    {
     "name": "stdout",
     "output_type": "stream",
     "text": [
      "Variable Importances:"
     ]
    },
    {
     "name": "stdout",
     "output_type": "stream",
     "text": [
      " "
     ]
    },
    {
     "name": "stdout",
     "output_type": "stream",
     "text": [
      "\n"
     ]
    },
    {
     "data": {
      "text/html": [
       "<div style=\"overflow:auto\"><table style=\"width:50%\"><tr><td><b>variable</b></td>\n",
       "<td><b>relative_importance</b></td>\n",
       "<td><b>scaled_importance</b></td>\n",
       "<td><b>percentage</b></td></tr>\n",
       "<tr><td>C8</td>\n",
       "<td>215549.7031250</td>\n",
       "<td>1.0</td>\n",
       "<td>0.1217556</td></tr>\n",
       "<tr><td>C20</td>\n",
       "<td>202537.3593750</td>\n",
       "<td>0.9396318</td>\n",
       "<td>0.1144054</td></tr>\n",
       "<tr><td>C6</td>\n",
       "<td>186757.1093750</td>\n",
       "<td>0.8664225</td>\n",
       "<td>0.1054918</td></tr>\n",
       "<tr><td>C4</td>\n",
       "<td>152984.9843750</td>\n",
       "<td>0.7097434</td>\n",
       "<td>0.0864152</td></tr>\n",
       "<tr><td>C17</td>\n",
       "<td>145371.7812500</td>\n",
       "<td>0.6744235</td>\n",
       "<td>0.0821148</td></tr>\n",
       "<tr><td>---</td>\n",
       "<td>---</td>\n",
       "<td>---</td>\n",
       "<td>---</td></tr>\n",
       "<tr><td>C5</td>\n",
       "<td>42803.5820312</td>\n",
       "<td>0.1985787</td>\n",
       "<td>0.0241781</td></tr>\n",
       "<tr><td>C1</td>\n",
       "<td>34837.7812500</td>\n",
       "<td>0.1616230</td>\n",
       "<td>0.0196785</td></tr>\n",
       "<tr><td>C19</td>\n",
       "<td>5251.4541016</td>\n",
       "<td>0.0243631</td>\n",
       "<td>0.0029663</td></tr>\n",
       "<tr><td>C18</td>\n",
       "<td>5130.6669922</td>\n",
       "<td>0.0238027</td>\n",
       "<td>0.0028981</td></tr>\n",
       "<tr><td>C22</td>\n",
       "<td>3706.3388672</td>\n",
       "<td>0.0171948</td>\n",
       "<td>0.0020936</td></tr></table></div>"
      ],
      "text/plain": [
       "<div style=\"overflow:auto\"><table style=\"width:50%\"><tr><td><b>variable</b></td>\n",
       "<td><b>relative_importance</b></td>\n",
       "<td><b>scaled_importance</b></td>\n",
       "<td><b>percentage</b></td></tr>\n",
       "<tr><td>C8</td>\n",
       "<td>215549.7031250</td>\n",
       "<td>1.0</td>\n",
       "<td>0.1217556</td></tr>\n",
       "<tr><td>C20</td>\n",
       "<td>202537.3593750</td>\n",
       "<td>0.9396318</td>\n",
       "<td>0.1144054</td></tr>\n",
       "<tr><td>C6</td>\n",
       "<td>186757.1093750</td>\n",
       "<td>0.8664225</td>\n",
       "<td>0.1054918</td></tr>\n",
       "<tr><td>C4</td>\n",
       "<td>152984.9843750</td>\n",
       "<td>0.7097434</td>\n",
       "<td>0.0864152</td></tr>\n",
       "<tr><td>C17</td>\n",
       "<td>145371.7812500</td>\n",
       "<td>0.6744235</td>\n",
       "<td>0.0821148</td></tr>\n",
       "<tr><td>---</td>\n",
       "<td>---</td>\n",
       "<td>---</td>\n",
       "<td>---</td></tr>\n",
       "<tr><td>C5</td>\n",
       "<td>42803.5820312</td>\n",
       "<td>0.1985787</td>\n",
       "<td>0.0241781</td></tr>\n",
       "<tr><td>C1</td>\n",
       "<td>34837.7812500</td>\n",
       "<td>0.1616230</td>\n",
       "<td>0.0196785</td></tr>\n",
       "<tr><td>C19</td>\n",
       "<td>5251.4541016</td>\n",
       "<td>0.0243631</td>\n",
       "<td>0.0029663</td></tr>\n",
       "<tr><td>C18</td>\n",
       "<td>5130.6669922</td>\n",
       "<td>0.0238027</td>\n",
       "<td>0.0028981</td></tr>\n",
       "<tr><td>C22</td>\n",
       "<td>3706.3388672</td>\n",
       "<td>0.0171948</td>\n",
       "<td>0.0020936</td></tr></table></div>"
      ]
     },
     "execution_count": 0,
     "metadata": {},
     "output_type": "execute_result"
    },
    {
     "name": "stdout",
     "output_type": "stream",
     "text": [
      "\nSee the whole table with table.as_data_frame()"
     ]
    },
    {
     "name": "stdout",
     "output_type": "stream",
     "text": [
      "\n"
     ]
    },
    {
     "name": "stdout",
     "output_type": "stream",
     "text": [
      "   variable  relative_importance  scaled_importance  percentage\n0        C8        215549.703125           1.000000    0.121756\n1       C20        202537.359375           0.939632    0.114405\n2        C6        186757.109375           0.866422    0.105492\n3        C4        152984.984375           0.709743    0.086415\n4       C17        145371.781250           0.674423    0.082115\n5       C21        127671.765625           0.592308    0.072117\n6        C3         88966.929688           0.412744    0.050254\n7        C7         65051.035156           0.301791    0.036745\n8       C16         64686.828125           0.300102    0.036539\n9        C2         61031.218750           0.283142    0.034474\n10      C14         57939.539062           0.268799    0.032728\n11      C10         56806.976562           0.263545    0.032088\n12      C13         56409.746094           0.261702    0.031864\n13      C12         51659.816406           0.239665    0.029181\n14      C11         50219.320312           0.232983    0.028367\n15       C9         48653.566406           0.225719    0.027482\n16      C15         46320.382812           0.214894    0.026165\n17       C5         42803.582031           0.198579    0.024178\n18       C1         34837.781250           0.161623    0.019678\n19      C19          5251.454102           0.024363    0.002966\n20      C18          5130.666992           0.023803    0.002898\n21      C22          3706.338867           0.017195    0.002094"
     ]
    },
    {
     "name": "stdout",
     "output_type": "stream",
     "text": [
      "\n"
     ]
    },
    {
     "name": "stdout",
     "output_type": "stream",
     "text": [
      "TP: 29462, FP: 19178, TN: 365857, FN: 75833"
     ]
    },
    {
     "name": "stdout",
     "output_type": "stream",
     "text": [
      "\n"
     ]
    },
    {
     "name": "stdout",
     "output_type": "stream",
     "text": [
      "Sensitivity or Recall: 27.980435918134766%"
     ]
    },
    {
     "name": "stdout",
     "output_type": "stream",
     "text": [
      "\n"
     ]
    },
    {
     "name": "stdout",
     "output_type": "stream",
     "text": [
      "Specificity: 95.01915410287376%"
     ]
    },
    {
     "name": "stdout",
     "output_type": "stream",
     "text": [
      "\n"
     ]
    },
    {
     "name": "stdout",
     "output_type": "stream",
     "text": [
      "Precision: 60.571546052631575%"
     ]
    },
    {
     "name": "stdout",
     "output_type": "stream",
     "text": [
      "\n"
     ]
    },
    {
     "name": "stdout",
     "output_type": "stream",
     "text": [
      "Error rate: 19.376950217200662%"
     ]
    },
    {
     "name": "stdout",
     "output_type": "stream",
     "text": [
      "\n"
     ]
    },
    {
     "name": "stdout",
     "output_type": "stream",
     "text": [
      "Accuracy: 80.62304978279934%"
     ]
    },
    {
     "name": "stdout",
     "output_type": "stream",
     "text": [
      "\n"
     ]
    },
    {
     "name": "stdout",
     "output_type": "stream",
     "text": [
      "F1 Score: 0.38278494169617044%"
     ]
    },
    {
     "name": "stdout",
     "output_type": "stream",
     "text": [
      "\n"
     ]
    },
    {
     "data": {
      "image/png": "[encoded data removed]",
      "text/plain": [
       "<matplotlib.figure.Figure at 0x11a8be4a8>"
      ]
     },
     "metadata": {},
     "output_type": "display_data"
    },
    {
     "data": {
      "image/png": "[encoded data removed]",
      "text/plain": [
       "<matplotlib.figure.Figure at 0x11a800080>"
      ]
     },
     "metadata": {},
     "output_type": "display_data"
    }
   ],
   "source": [
    "random_forest_property_length = len(training_dataset[0].get_random_forest_property_array())\n",
    "predictions, probabilities = RandomForest.get_h2o_predictions(training_dataset, testing_dataset,\n",
    "                                                   random_forest_property_length)\n",
    "eval.show_evaluation_measure_values(testing_dataset, predictions)\n",
    "eval.show_all_evaluation_graphics(testing_dataset, probabilities, predictions)"
   ]
  },
  {
   "cell_type": "code",
   "execution_count": null,
   "metadata": {},
   "outputs": [],
   "source": [
    ""
   ]
  }
 ],
 "metadata": {
  "kernelspec": {
   "display_name": "Python 2",
   "language": "python",
   "name": "python2"
  },
  "language_info": {
   "codemirror_mode": {
    "name": "ipython",
    "version": 2.0
   },
   "file_extension": ".py",
   "mimetype": "text/x-python",
   "name": "python",
   "nbconvert_exporter": "python",
   "pygments_lexer": "ipython2",
   "version": "2.7.6"
  }
 },
 "nbformat": 4,
 "nbformat_minor": 0
}